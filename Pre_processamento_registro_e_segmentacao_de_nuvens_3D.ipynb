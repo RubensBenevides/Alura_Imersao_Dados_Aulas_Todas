{
  "nbformat": 4,
  "nbformat_minor": 0,
  "metadata": {
    "colab": {
      "name": "Pre-processamento_registro_e_segmentacao_de_nuvens_3D.ipynb",
      "provenance": [],
      "collapsed_sections": [],
      "include_colab_link": true
    },
    "kernelspec": {
      "display_name": "Python 3",
      "language": "python",
      "name": "python3"
    },
    "language_info": {
      "codemirror_mode": {
        "name": "ipython",
        "version": 3
      },
      "file_extension": ".py",
      "mimetype": "text/x-python",
      "name": "python",
      "nbconvert_exporter": "python",
      "pygments_lexer": "ipython3",
      "version": "3.6.8"
    },
    "widgets": {
      "application/vnd.jupyter.widget-state+json": {}
    }
  },
  "cells": [
    {
      "cell_type": "markdown",
      "metadata": {
        "id": "view-in-github",
        "colab_type": "text"
      },
      "source": [
        "<a href=\"https://colab.research.google.com/github/RubensBenevides/Alura_Imersao_Dados_Aulas_Todas/blob/main/Pre_processamento_registro_e_segmentacao_de_nuvens_3D.ipynb\" target=\"_parent\"><img src=\"https://colab.research.google.com/assets/colab-badge.svg\" alt=\"Open In Colab\"/></a>"
      ]
    },
    {
      "cell_type": "markdown",
      "metadata": {
        "id": "_Adko3824TZG"
      },
      "source": [
        "---\n",
        "**# Vizualizando e operando com nuvens de pontos em Caderno Jupyter**\n",
        "---\n",
        "---"
      ]
    },
    {
      "cell_type": "markdown",
      "metadata": {
        "id": "h49Tnv0cvmZJ"
      },
      "source": [
        "Preparar o ambiente no Google Drive:"
      ]
    },
    {
      "cell_type": "code",
      "metadata": {
        "colab": {
          "base_uri": "https://localhost:8080/"
        },
        "id": "_lq_97cdzmNi",
        "outputId": "5c64c40a-e6b3-4069-c8b4-4ac4048582d4"
      },
      "source": [
        "from google.colab import drive\n",
        "drive.mount('/content/gdrive')"
      ],
      "execution_count": 2,
      "outputs": [
        {
          "output_type": "stream",
          "name": "stdout",
          "text": [
            "Mounted at /content/gdrive\n"
          ]
        }
      ]
    },
    {
      "cell_type": "markdown",
      "metadata": {
        "id": "i8-NYkdft3xg"
      },
      "source": [
        "Instalar e importar bibliotecas para uso geral e manipulação 3D "
      ]
    },
    {
      "cell_type": "code",
      "metadata": {
        "colab": {
          "base_uri": "https://localhost:8080/",
          "height": 1000
        },
        "id": "Q0A_lx6BeOmX",
        "outputId": "6a289761-ce96-4a97-bf6e-a89fa4b55816"
      },
      "source": [
        "# Uso geral\n",
        "!pip install numpy\n",
        "!pip install pandas\n",
        "import time\n",
        "!ls                  # para importar dados do Google Drive\n",
        "\n",
        "# Manipulação e vizualização de nuvens de pontos\n",
        "!pip install ipyvolume \n",
        "!pip install pyntcloud\n",
        "!pip install open3d\n"
      ],
      "execution_count": 3,
      "outputs": [
        {
          "output_type": "stream",
          "name": "stdout",
          "text": [
            "Requirement already satisfied: numpy in /usr/local/lib/python3.7/dist-packages (1.19.5)\n",
            "Requirement already satisfied: pandas in /usr/local/lib/python3.7/dist-packages (1.1.5)\n",
            "Requirement already satisfied: python-dateutil>=2.7.3 in /usr/local/lib/python3.7/dist-packages (from pandas) (2.8.2)\n",
            "Requirement already satisfied: pytz>=2017.2 in /usr/local/lib/python3.7/dist-packages (from pandas) (2018.9)\n",
            "Requirement already satisfied: numpy>=1.15.4 in /usr/local/lib/python3.7/dist-packages (from pandas) (1.19.5)\n",
            "Requirement already satisfied: six>=1.5 in /usr/local/lib/python3.7/dist-packages (from python-dateutil>=2.7.3->pandas) (1.15.0)\n",
            "gdrive\tsample_data\n",
            "Collecting ipyvolume\n",
            "  Downloading ipyvolume-0.5.2-py2.py3-none-any.whl (2.9 MB)\n",
            "\u001b[K     |████████████████████████████████| 2.9 MB 4.6 MB/s \n",
            "\u001b[?25hRequirement already satisfied: Pillow in /usr/local/lib/python3.7/dist-packages (from ipyvolume) (7.1.2)\n",
            "Collecting traittypes\n",
            "  Downloading traittypes-0.2.1-py2.py3-none-any.whl (8.6 kB)\n",
            "Collecting ipywebrtc\n",
            "  Downloading ipywebrtc-0.6.0-py2.py3-none-any.whl (260 kB)\n",
            "\u001b[K     |████████████████████████████████| 260 kB 58.8 MB/s \n",
            "\u001b[?25hRequirement already satisfied: requests in /usr/local/lib/python3.7/dist-packages (from ipyvolume) (2.23.0)\n",
            "Collecting pythreejs>=1.0.0\n",
            "  Downloading pythreejs-2.3.0-py2.py3-none-any.whl (3.4 MB)\n",
            "\u001b[K     |████████████████████████████████| 3.4 MB 32.4 MB/s \n",
            "\u001b[?25hRequirement already satisfied: ipywidgets>=7.5 in /usr/local/lib/python3.7/dist-packages (from ipyvolume) (7.6.5)\n",
            "Requirement already satisfied: numpy in /usr/local/lib/python3.7/dist-packages (from ipyvolume) (1.19.5)\n",
            "Requirement already satisfied: traitlets in /usr/local/lib/python3.7/dist-packages (from ipyvolume) (5.1.1)\n",
            "Requirement already satisfied: nbformat>=4.2.0 in /usr/local/lib/python3.7/dist-packages (from ipywidgets>=7.5->ipyvolume) (5.1.3)\n",
            "Requirement already satisfied: ipython>=4.0.0 in /usr/local/lib/python3.7/dist-packages (from ipywidgets>=7.5->ipyvolume) (5.5.0)\n",
            "Requirement already satisfied: ipython-genutils~=0.2.0 in /usr/local/lib/python3.7/dist-packages (from ipywidgets>=7.5->ipyvolume) (0.2.0)\n",
            "Requirement already satisfied: widgetsnbextension~=3.5.0 in /usr/local/lib/python3.7/dist-packages (from ipywidgets>=7.5->ipyvolume) (3.5.2)\n",
            "Requirement already satisfied: jupyterlab-widgets>=1.0.0 in /usr/local/lib/python3.7/dist-packages (from ipywidgets>=7.5->ipyvolume) (1.0.2)\n",
            "Requirement already satisfied: ipykernel>=4.5.1 in /usr/local/lib/python3.7/dist-packages (from ipywidgets>=7.5->ipyvolume) (4.10.1)\n",
            "Requirement already satisfied: tornado>=4.0 in /usr/local/lib/python3.7/dist-packages (from ipykernel>=4.5.1->ipywidgets>=7.5->ipyvolume) (5.1.1)\n",
            "Requirement already satisfied: jupyter-client in /usr/local/lib/python3.7/dist-packages (from ipykernel>=4.5.1->ipywidgets>=7.5->ipyvolume) (5.3.5)\n",
            "Requirement already satisfied: pygments in /usr/local/lib/python3.7/dist-packages (from ipython>=4.0.0->ipywidgets>=7.5->ipyvolume) (2.6.1)\n",
            "Requirement already satisfied: simplegeneric>0.8 in /usr/local/lib/python3.7/dist-packages (from ipython>=4.0.0->ipywidgets>=7.5->ipyvolume) (0.8.1)\n",
            "Requirement already satisfied: decorator in /usr/local/lib/python3.7/dist-packages (from ipython>=4.0.0->ipywidgets>=7.5->ipyvolume) (4.4.2)\n",
            "Requirement already satisfied: setuptools>=18.5 in /usr/local/lib/python3.7/dist-packages (from ipython>=4.0.0->ipywidgets>=7.5->ipyvolume) (57.4.0)\n",
            "Requirement already satisfied: prompt-toolkit<2.0.0,>=1.0.4 in /usr/local/lib/python3.7/dist-packages (from ipython>=4.0.0->ipywidgets>=7.5->ipyvolume) (1.0.18)\n",
            "Requirement already satisfied: pickleshare in /usr/local/lib/python3.7/dist-packages (from ipython>=4.0.0->ipywidgets>=7.5->ipyvolume) (0.7.5)\n",
            "Requirement already satisfied: pexpect in /usr/local/lib/python3.7/dist-packages (from ipython>=4.0.0->ipywidgets>=7.5->ipyvolume) (4.8.0)\n",
            "Requirement already satisfied: jupyter-core in /usr/local/lib/python3.7/dist-packages (from nbformat>=4.2.0->ipywidgets>=7.5->ipyvolume) (4.9.1)\n",
            "Requirement already satisfied: jsonschema!=2.5.0,>=2.4 in /usr/local/lib/python3.7/dist-packages (from nbformat>=4.2.0->ipywidgets>=7.5->ipyvolume) (2.6.0)\n",
            "Requirement already satisfied: six>=1.9.0 in /usr/local/lib/python3.7/dist-packages (from prompt-toolkit<2.0.0,>=1.0.4->ipython>=4.0.0->ipywidgets>=7.5->ipyvolume) (1.15.0)\n",
            "Requirement already satisfied: wcwidth in /usr/local/lib/python3.7/dist-packages (from prompt-toolkit<2.0.0,>=1.0.4->ipython>=4.0.0->ipywidgets>=7.5->ipyvolume) (0.2.5)\n",
            "Collecting ipydatawidgets>=1.1.1\n",
            "  Downloading ipydatawidgets-4.2.0-py2.py3-none-any.whl (275 kB)\n",
            "\u001b[K     |████████████████████████████████| 275 kB 57.9 MB/s \n",
            "\u001b[?25hRequirement already satisfied: notebook>=4.4.1 in /usr/local/lib/python3.7/dist-packages (from widgetsnbextension~=3.5.0->ipywidgets>=7.5->ipyvolume) (5.3.1)\n",
            "Requirement already satisfied: Send2Trash in /usr/local/lib/python3.7/dist-packages (from notebook>=4.4.1->widgetsnbextension~=3.5.0->ipywidgets>=7.5->ipyvolume) (1.8.0)\n",
            "Requirement already satisfied: jinja2 in /usr/local/lib/python3.7/dist-packages (from notebook>=4.4.1->widgetsnbextension~=3.5.0->ipywidgets>=7.5->ipyvolume) (2.11.3)\n",
            "Requirement already satisfied: nbconvert in /usr/local/lib/python3.7/dist-packages (from notebook>=4.4.1->widgetsnbextension~=3.5.0->ipywidgets>=7.5->ipyvolume) (5.6.1)\n",
            "Requirement already satisfied: terminado>=0.8.1 in /usr/local/lib/python3.7/dist-packages (from notebook>=4.4.1->widgetsnbextension~=3.5.0->ipywidgets>=7.5->ipyvolume) (0.12.1)\n",
            "Requirement already satisfied: python-dateutil>=2.1 in /usr/local/lib/python3.7/dist-packages (from jupyter-client->ipykernel>=4.5.1->ipywidgets>=7.5->ipyvolume) (2.8.2)\n",
            "Requirement already satisfied: pyzmq>=13 in /usr/local/lib/python3.7/dist-packages (from jupyter-client->ipykernel>=4.5.1->ipywidgets>=7.5->ipyvolume) (22.3.0)\n",
            "Requirement already satisfied: ptyprocess in /usr/local/lib/python3.7/dist-packages (from terminado>=0.8.1->notebook>=4.4.1->widgetsnbextension~=3.5.0->ipywidgets>=7.5->ipyvolume) (0.7.0)\n",
            "Requirement already satisfied: MarkupSafe>=0.23 in /usr/local/lib/python3.7/dist-packages (from jinja2->notebook>=4.4.1->widgetsnbextension~=3.5.0->ipywidgets>=7.5->ipyvolume) (2.0.1)\n",
            "Requirement already satisfied: entrypoints>=0.2.2 in /usr/local/lib/python3.7/dist-packages (from nbconvert->notebook>=4.4.1->widgetsnbextension~=3.5.0->ipywidgets>=7.5->ipyvolume) (0.3)\n",
            "Requirement already satisfied: bleach in /usr/local/lib/python3.7/dist-packages (from nbconvert->notebook>=4.4.1->widgetsnbextension~=3.5.0->ipywidgets>=7.5->ipyvolume) (4.1.0)\n",
            "Requirement already satisfied: testpath in /usr/local/lib/python3.7/dist-packages (from nbconvert->notebook>=4.4.1->widgetsnbextension~=3.5.0->ipywidgets>=7.5->ipyvolume) (0.5.0)\n",
            "Requirement already satisfied: defusedxml in /usr/local/lib/python3.7/dist-packages (from nbconvert->notebook>=4.4.1->widgetsnbextension~=3.5.0->ipywidgets>=7.5->ipyvolume) (0.7.1)\n",
            "Requirement already satisfied: mistune<2,>=0.8.1 in /usr/local/lib/python3.7/dist-packages (from nbconvert->notebook>=4.4.1->widgetsnbextension~=3.5.0->ipywidgets>=7.5->ipyvolume) (0.8.4)\n",
            "Requirement already satisfied: pandocfilters>=1.4.1 in /usr/local/lib/python3.7/dist-packages (from nbconvert->notebook>=4.4.1->widgetsnbextension~=3.5.0->ipywidgets>=7.5->ipyvolume) (1.5.0)\n",
            "Requirement already satisfied: webencodings in /usr/local/lib/python3.7/dist-packages (from bleach->nbconvert->notebook>=4.4.1->widgetsnbextension~=3.5.0->ipywidgets>=7.5->ipyvolume) (0.5.1)\n",
            "Requirement already satisfied: packaging in /usr/local/lib/python3.7/dist-packages (from bleach->nbconvert->notebook>=4.4.1->widgetsnbextension~=3.5.0->ipywidgets>=7.5->ipyvolume) (21.3)\n",
            "Requirement already satisfied: pyparsing!=3.0.5,>=2.0.2 in /usr/local/lib/python3.7/dist-packages (from packaging->bleach->nbconvert->notebook>=4.4.1->widgetsnbextension~=3.5.0->ipywidgets>=7.5->ipyvolume) (3.0.6)\n",
            "Requirement already satisfied: urllib3!=1.25.0,!=1.25.1,<1.26,>=1.21.1 in /usr/local/lib/python3.7/dist-packages (from requests->ipyvolume) (1.24.3)\n",
            "Requirement already satisfied: certifi>=2017.4.17 in /usr/local/lib/python3.7/dist-packages (from requests->ipyvolume) (2021.10.8)\n",
            "Requirement already satisfied: chardet<4,>=3.0.2 in /usr/local/lib/python3.7/dist-packages (from requests->ipyvolume) (3.0.4)\n",
            "Requirement already satisfied: idna<3,>=2.5 in /usr/local/lib/python3.7/dist-packages (from requests->ipyvolume) (2.10)\n",
            "Installing collected packages: traittypes, ipydatawidgets, pythreejs, ipywebrtc, ipyvolume\n",
            "Successfully installed ipydatawidgets-4.2.0 ipyvolume-0.5.2 ipywebrtc-0.6.0 pythreejs-2.3.0 traittypes-0.2.1\n",
            "Collecting pyntcloud\n",
            "  Downloading pyntcloud-0.1.5-py3-none-any.whl (346 kB)\n",
            "\u001b[K     |████████████████████████████████| 346 kB 5.2 MB/s \n",
            "\u001b[?25hRequirement already satisfied: pandas in /usr/local/lib/python3.7/dist-packages (from pyntcloud) (1.1.5)\n",
            "Requirement already satisfied: numpy in /usr/local/lib/python3.7/dist-packages (from pyntcloud) (1.19.5)\n",
            "Requirement already satisfied: scipy in /usr/local/lib/python3.7/dist-packages (from pyntcloud) (1.4.1)\n",
            "Requirement already satisfied: python-dateutil>=2.7.3 in /usr/local/lib/python3.7/dist-packages (from pandas->pyntcloud) (2.8.2)\n",
            "Requirement already satisfied: pytz>=2017.2 in /usr/local/lib/python3.7/dist-packages (from pandas->pyntcloud) (2018.9)\n",
            "Requirement already satisfied: six>=1.5 in /usr/local/lib/python3.7/dist-packages (from python-dateutil>=2.7.3->pandas->pyntcloud) (1.15.0)\n",
            "Installing collected packages: pyntcloud\n",
            "Successfully installed pyntcloud-0.1.5\n",
            "Collecting open3d\n",
            "  Downloading open3d-0.13.0-cp37-cp37m-manylinux2014_x86_64.whl (300.6 MB)\n",
            "\u001b[K     |████████████████████████████████| 300.6 MB 15 kB/s \n",
            "\u001b[?25hRequirement already satisfied: numpy>1.15 in /usr/local/lib/python3.7/dist-packages (from open3d) (1.19.5)\n",
            "Requirement already satisfied: wheel>=0.36.0 in /usr/local/lib/python3.7/dist-packages (from open3d) (0.37.0)\n",
            "Collecting pyyaml>=5.4.1\n",
            "  Downloading PyYAML-6.0-cp37-cp37m-manylinux_2_5_x86_64.manylinux1_x86_64.manylinux_2_12_x86_64.manylinux2010_x86_64.whl (596 kB)\n",
            "\u001b[K     |████████████████████████████████| 596 kB 56.8 MB/s \n",
            "\u001b[?25hCollecting pygments>=2.7.4\n",
            "  Downloading Pygments-2.10.0-py3-none-any.whl (1.0 MB)\n",
            "\u001b[K     |████████████████████████████████| 1.0 MB 51.8 MB/s \n",
            "\u001b[?25hCollecting addict\n",
            "  Downloading addict-2.4.0-py3-none-any.whl (3.8 kB)\n",
            "Requirement already satisfied: setuptools>=40.8.0 in /usr/local/lib/python3.7/dist-packages (from open3d) (57.4.0)\n",
            "Collecting pillow>=8.2.0\n",
            "  Downloading Pillow-8.4.0-cp37-cp37m-manylinux_2_17_x86_64.manylinux2014_x86_64.whl (3.1 MB)\n",
            "\u001b[K     |████████████████████████████████| 3.1 MB 29.0 MB/s \n",
            "\u001b[?25hRequirement already satisfied: matplotlib>=3 in /usr/local/lib/python3.7/dist-packages (from open3d) (3.2.2)\n",
            "Requirement already satisfied: pandas>=1.0 in /usr/local/lib/python3.7/dist-packages (from open3d) (1.1.5)\n",
            "Collecting jupyterlab==3.*,>=3.0.0\n",
            "  Downloading jupyterlab-3.2.4-py3-none-any.whl (8.6 MB)\n",
            "\u001b[K     |████████████████████████████████| 8.6 MB 50.1 MB/s \n",
            "\u001b[?25hCollecting jupyter-packaging~=0.10\n",
            "  Downloading jupyter_packaging-0.11.1-py2.py3-none-any.whl (14 kB)\n",
            "Requirement already satisfied: scikit-learn>=0.21 in /usr/local/lib/python3.7/dist-packages (from open3d) (1.0.1)\n",
            "Requirement already satisfied: tqdm in /usr/local/lib/python3.7/dist-packages (from open3d) (4.62.3)\n",
            "Requirement already satisfied: ipywidgets>=7.6.0 in /usr/local/lib/python3.7/dist-packages (from open3d) (7.6.5)\n",
            "Requirement already satisfied: jinja2>=2.1 in /usr/local/lib/python3.7/dist-packages (from jupyterlab==3.*,>=3.0.0->open3d) (2.11.3)\n",
            "Collecting jupyter-server~=1.4\n",
            "  Downloading jupyter_server-1.12.1-py3-none-any.whl (395 kB)\n",
            "\u001b[K     |████████████████████████████████| 395 kB 79.6 MB/s \n",
            "\u001b[?25hRequirement already satisfied: jupyter-core in /usr/local/lib/python3.7/dist-packages (from jupyterlab==3.*,>=3.0.0->open3d) (4.9.1)\n",
            "Collecting nbclassic~=0.2\n",
            "  Downloading nbclassic-0.3.4-py3-none-any.whl (25 kB)\n",
            "Requirement already satisfied: ipython in /usr/local/lib/python3.7/dist-packages (from jupyterlab==3.*,>=3.0.0->open3d) (5.5.0)\n",
            "Collecting tornado>=6.1.0\n",
            "  Downloading tornado-6.1-cp37-cp37m-manylinux2010_x86_64.whl (428 kB)\n",
            "\u001b[K     |████████████████████████████████| 428 kB 64.6 MB/s \n",
            "\u001b[?25hRequirement already satisfied: packaging in /usr/local/lib/python3.7/dist-packages (from jupyterlab==3.*,>=3.0.0->open3d) (21.3)\n",
            "Collecting jupyterlab-server~=2.3\n",
            "  Downloading jupyterlab_server-2.8.2-py3-none-any.whl (58 kB)\n",
            "\u001b[K     |████████████████████████████████| 58 kB 6.6 MB/s \n",
            "\u001b[?25hRequirement already satisfied: widgetsnbextension~=3.5.0 in /usr/local/lib/python3.7/dist-packages (from ipywidgets>=7.6.0->open3d) (3.5.2)\n",
            "Requirement already satisfied: ipykernel>=4.5.1 in /usr/local/lib/python3.7/dist-packages (from ipywidgets>=7.6.0->open3d) (4.10.1)\n",
            "Requirement already satisfied: nbformat>=4.2.0 in /usr/local/lib/python3.7/dist-packages (from ipywidgets>=7.6.0->open3d) (5.1.3)\n",
            "Requirement already satisfied: jupyterlab-widgets>=1.0.0 in /usr/local/lib/python3.7/dist-packages (from ipywidgets>=7.6.0->open3d) (1.0.2)\n",
            "Requirement already satisfied: ipython-genutils~=0.2.0 in /usr/local/lib/python3.7/dist-packages (from ipywidgets>=7.6.0->open3d) (0.2.0)\n",
            "Requirement already satisfied: traitlets>=4.3.1 in /usr/local/lib/python3.7/dist-packages (from ipywidgets>=7.6.0->open3d) (5.1.1)\n",
            "Requirement already satisfied: jupyter-client in /usr/local/lib/python3.7/dist-packages (from ipykernel>=4.5.1->ipywidgets>=7.6.0->open3d) (5.3.5)\n",
            "Requirement already satisfied: prompt-toolkit<2.0.0,>=1.0.4 in /usr/local/lib/python3.7/dist-packages (from ipython->jupyterlab==3.*,>=3.0.0->open3d) (1.0.18)\n",
            "Requirement already satisfied: decorator in /usr/local/lib/python3.7/dist-packages (from ipython->jupyterlab==3.*,>=3.0.0->open3d) (4.4.2)\n",
            "Requirement already satisfied: pickleshare in /usr/local/lib/python3.7/dist-packages (from ipython->jupyterlab==3.*,>=3.0.0->open3d) (0.7.5)\n",
            "Requirement already satisfied: pexpect in /usr/local/lib/python3.7/dist-packages (from ipython->jupyterlab==3.*,>=3.0.0->open3d) (4.8.0)\n",
            "Requirement already satisfied: simplegeneric>0.8 in /usr/local/lib/python3.7/dist-packages (from ipython->jupyterlab==3.*,>=3.0.0->open3d) (0.8.1)\n",
            "Requirement already satisfied: MarkupSafe>=0.23 in /usr/local/lib/python3.7/dist-packages (from jinja2>=2.1->jupyterlab==3.*,>=3.0.0->open3d) (2.0.1)\n",
            "Collecting tomlkit\n",
            "  Downloading tomlkit-0.7.2-py2.py3-none-any.whl (32 kB)\n",
            "Collecting deprecation\n",
            "  Downloading deprecation-2.1.0-py2.py3-none-any.whl (11 kB)\n",
            "Requirement already satisfied: Send2Trash in /usr/local/lib/python3.7/dist-packages (from jupyter-server~=1.4->jupyterlab==3.*,>=3.0.0->open3d) (1.8.0)\n",
            "Requirement already satisfied: terminado>=0.8.3 in /usr/local/lib/python3.7/dist-packages (from jupyter-server~=1.4->jupyterlab==3.*,>=3.0.0->open3d) (0.12.1)\n",
            "Requirement already satisfied: nbconvert in /usr/local/lib/python3.7/dist-packages (from jupyter-server~=1.4->jupyterlab==3.*,>=3.0.0->open3d) (5.6.1)\n",
            "Collecting anyio<4,>=3.1.0\n",
            "  Downloading anyio-3.4.0-py3-none-any.whl (78 kB)\n",
            "\u001b[K     |████████████████████████████████| 78 kB 8.4 MB/s \n",
            "\u001b[?25hCollecting websocket-client\n",
            "  Downloading websocket_client-1.2.1-py2.py3-none-any.whl (52 kB)\n",
            "\u001b[K     |████████████████████████████████| 52 kB 1.7 MB/s \n",
            "\u001b[?25hRequirement already satisfied: pyzmq>=17 in /usr/local/lib/python3.7/dist-packages (from jupyter-server~=1.4->jupyterlab==3.*,>=3.0.0->open3d) (22.3.0)\n",
            "Collecting jupyter-client\n",
            "  Downloading jupyter_client-7.1.0-py3-none-any.whl (129 kB)\n",
            "\u001b[K     |████████████████████████████████| 129 kB 76.9 MB/s \n",
            "\u001b[?25hRequirement already satisfied: argon2-cffi in /usr/local/lib/python3.7/dist-packages (from jupyter-server~=1.4->jupyterlab==3.*,>=3.0.0->open3d) (21.1.0)\n",
            "Requirement already satisfied: prometheus-client in /usr/local/lib/python3.7/dist-packages (from jupyter-server~=1.4->jupyterlab==3.*,>=3.0.0->open3d) (0.12.0)\n",
            "Collecting sniffio>=1.1\n",
            "  Downloading sniffio-1.2.0-py3-none-any.whl (10 kB)\n",
            "Requirement already satisfied: typing-extensions in /usr/local/lib/python3.7/dist-packages (from anyio<4,>=3.1.0->jupyter-server~=1.4->jupyterlab==3.*,>=3.0.0->open3d) (3.10.0.2)\n",
            "Requirement already satisfied: idna>=2.8 in /usr/local/lib/python3.7/dist-packages (from anyio<4,>=3.1.0->jupyter-server~=1.4->jupyterlab==3.*,>=3.0.0->open3d) (2.10)\n",
            "Requirement already satisfied: nest-asyncio>=1.5 in /usr/local/lib/python3.7/dist-packages (from jupyter-client->ipykernel>=4.5.1->ipywidgets>=7.6.0->open3d) (1.5.1)\n",
            "Requirement already satisfied: python-dateutil>=2.1 in /usr/local/lib/python3.7/dist-packages (from jupyter-client->ipykernel>=4.5.1->ipywidgets>=7.6.0->open3d) (2.8.2)\n",
            "Requirement already satisfied: entrypoints in /usr/local/lib/python3.7/dist-packages (from jupyter-client->ipykernel>=4.5.1->ipywidgets>=7.6.0->open3d) (0.3)\n",
            "Requirement already satisfied: babel in /usr/local/lib/python3.7/dist-packages (from jupyterlab-server~=2.3->jupyterlab==3.*,>=3.0.0->open3d) (2.9.1)\n",
            "Collecting json5\n",
            "  Downloading json5-0.9.6-py2.py3-none-any.whl (18 kB)\n",
            "Requirement already satisfied: requests in /usr/local/lib/python3.7/dist-packages (from jupyterlab-server~=2.3->jupyterlab==3.*,>=3.0.0->open3d) (2.23.0)\n",
            "Collecting jsonschema>=3.0.1\n",
            "  Downloading jsonschema-4.2.1-py3-none-any.whl (69 kB)\n",
            "\u001b[K     |████████████████████████████████| 69 kB 9.3 MB/s \n",
            "\u001b[?25hRequirement already satisfied: importlib-resources>=1.4.0 in /usr/local/lib/python3.7/dist-packages (from jsonschema>=3.0.1->jupyterlab-server~=2.3->jupyterlab==3.*,>=3.0.0->open3d) (5.4.0)\n",
            "Requirement already satisfied: pyrsistent!=0.17.0,!=0.17.1,!=0.17.2,>=0.14.0 in /usr/local/lib/python3.7/dist-packages (from jsonschema>=3.0.1->jupyterlab-server~=2.3->jupyterlab==3.*,>=3.0.0->open3d) (0.18.0)\n",
            "Requirement already satisfied: importlib-metadata in /usr/local/lib/python3.7/dist-packages (from jsonschema>=3.0.1->jupyterlab-server~=2.3->jupyterlab==3.*,>=3.0.0->open3d) (4.8.2)\n",
            "Requirement already satisfied: attrs>=17.4.0 in /usr/local/lib/python3.7/dist-packages (from jsonschema>=3.0.1->jupyterlab-server~=2.3->jupyterlab==3.*,>=3.0.0->open3d) (21.2.0)\n",
            "Requirement already satisfied: zipp>=3.1.0 in /usr/local/lib/python3.7/dist-packages (from importlib-resources>=1.4.0->jsonschema>=3.0.1->jupyterlab-server~=2.3->jupyterlab==3.*,>=3.0.0->open3d) (3.6.0)\n",
            "Requirement already satisfied: pyparsing!=2.0.4,!=2.1.2,!=2.1.6,>=2.0.1 in /usr/local/lib/python3.7/dist-packages (from matplotlib>=3->open3d) (3.0.6)\n",
            "Requirement already satisfied: kiwisolver>=1.0.1 in /usr/local/lib/python3.7/dist-packages (from matplotlib>=3->open3d) (1.3.2)\n",
            "Requirement already satisfied: cycler>=0.10 in /usr/local/lib/python3.7/dist-packages (from matplotlib>=3->open3d) (0.11.0)\n",
            "Requirement already satisfied: notebook<7 in /usr/local/lib/python3.7/dist-packages (from nbclassic~=0.2->jupyterlab==3.*,>=3.0.0->open3d) (5.3.1)\n",
            "Requirement already satisfied: pytz>=2017.2 in /usr/local/lib/python3.7/dist-packages (from pandas>=1.0->open3d) (2018.9)\n",
            "Requirement already satisfied: wcwidth in /usr/local/lib/python3.7/dist-packages (from prompt-toolkit<2.0.0,>=1.0.4->ipython->jupyterlab==3.*,>=3.0.0->open3d) (0.2.5)\n",
            "Requirement already satisfied: six>=1.9.0 in /usr/local/lib/python3.7/dist-packages (from prompt-toolkit<2.0.0,>=1.0.4->ipython->jupyterlab==3.*,>=3.0.0->open3d) (1.15.0)\n",
            "Requirement already satisfied: joblib>=0.11 in /usr/local/lib/python3.7/dist-packages (from scikit-learn>=0.21->open3d) (1.1.0)\n",
            "Requirement already satisfied: threadpoolctl>=2.0.0 in /usr/local/lib/python3.7/dist-packages (from scikit-learn>=0.21->open3d) (3.0.0)\n",
            "Requirement already satisfied: scipy>=1.1.0 in /usr/local/lib/python3.7/dist-packages (from scikit-learn>=0.21->open3d) (1.4.1)\n",
            "Requirement already satisfied: ptyprocess in /usr/local/lib/python3.7/dist-packages (from terminado>=0.8.3->jupyter-server~=1.4->jupyterlab==3.*,>=3.0.0->open3d) (0.7.0)\n",
            "Requirement already satisfied: cffi>=1.0.0 in /usr/local/lib/python3.7/dist-packages (from argon2-cffi->jupyter-server~=1.4->jupyterlab==3.*,>=3.0.0->open3d) (1.15.0)\n",
            "Requirement already satisfied: pycparser in /usr/local/lib/python3.7/dist-packages (from cffi>=1.0.0->argon2-cffi->jupyter-server~=1.4->jupyterlab==3.*,>=3.0.0->open3d) (2.21)\n",
            "Requirement already satisfied: pandocfilters>=1.4.1 in /usr/local/lib/python3.7/dist-packages (from nbconvert->jupyter-server~=1.4->jupyterlab==3.*,>=3.0.0->open3d) (1.5.0)\n",
            "Requirement already satisfied: bleach in /usr/local/lib/python3.7/dist-packages (from nbconvert->jupyter-server~=1.4->jupyterlab==3.*,>=3.0.0->open3d) (4.1.0)\n",
            "Requirement already satisfied: mistune<2,>=0.8.1 in /usr/local/lib/python3.7/dist-packages (from nbconvert->jupyter-server~=1.4->jupyterlab==3.*,>=3.0.0->open3d) (0.8.4)\n",
            "Requirement already satisfied: testpath in /usr/local/lib/python3.7/dist-packages (from nbconvert->jupyter-server~=1.4->jupyterlab==3.*,>=3.0.0->open3d) (0.5.0)\n",
            "Requirement already satisfied: defusedxml in /usr/local/lib/python3.7/dist-packages (from nbconvert->jupyter-server~=1.4->jupyterlab==3.*,>=3.0.0->open3d) (0.7.1)\n",
            "Requirement already satisfied: webencodings in /usr/local/lib/python3.7/dist-packages (from bleach->nbconvert->jupyter-server~=1.4->jupyterlab==3.*,>=3.0.0->open3d) (0.5.1)\n",
            "Requirement already satisfied: certifi>=2017.4.17 in /usr/local/lib/python3.7/dist-packages (from requests->jupyterlab-server~=2.3->jupyterlab==3.*,>=3.0.0->open3d) (2021.10.8)\n",
            "Requirement already satisfied: chardet<4,>=3.0.2 in /usr/local/lib/python3.7/dist-packages (from requests->jupyterlab-server~=2.3->jupyterlab==3.*,>=3.0.0->open3d) (3.0.4)\n",
            "Requirement already satisfied: urllib3!=1.25.0,!=1.25.1,<1.26,>=1.21.1 in /usr/local/lib/python3.7/dist-packages (from requests->jupyterlab-server~=2.3->jupyterlab==3.*,>=3.0.0->open3d) (1.24.3)\n",
            "Installing collected packages: tornado, pygments, jsonschema, sniffio, jupyter-client, websocket-client, anyio, jupyter-server, json5, tomlkit, nbclassic, jupyterlab-server, deprecation, pyyaml, pillow, jupyterlab, jupyter-packaging, addict, open3d\n",
            "  Attempting uninstall: tornado\n",
            "    Found existing installation: tornado 5.1.1\n",
            "    Uninstalling tornado-5.1.1:\n",
            "      Successfully uninstalled tornado-5.1.1\n",
            "  Attempting uninstall: pygments\n",
            "    Found existing installation: Pygments 2.6.1\n",
            "    Uninstalling Pygments-2.6.1:\n",
            "      Successfully uninstalled Pygments-2.6.1\n",
            "  Attempting uninstall: jsonschema\n",
            "    Found existing installation: jsonschema 2.6.0\n",
            "    Uninstalling jsonschema-2.6.0:\n",
            "      Successfully uninstalled jsonschema-2.6.0\n",
            "  Attempting uninstall: jupyter-client\n",
            "    Found existing installation: jupyter-client 5.3.5\n",
            "    Uninstalling jupyter-client-5.3.5:\n",
            "      Successfully uninstalled jupyter-client-5.3.5\n",
            "  Attempting uninstall: pyyaml\n",
            "    Found existing installation: PyYAML 3.13\n",
            "    Uninstalling PyYAML-3.13:\n",
            "      Successfully uninstalled PyYAML-3.13\n",
            "  Attempting uninstall: pillow\n",
            "    Found existing installation: Pillow 7.1.2\n",
            "    Uninstalling Pillow-7.1.2:\n",
            "      Successfully uninstalled Pillow-7.1.2\n",
            "\u001b[31mERROR: pip's dependency resolver does not currently take into account all the packages that are installed. This behaviour is the source of the following dependency conflicts.\n",
            "google-colab 1.0.0 requires tornado~=5.1.0; python_version >= \"3.0\", but you have tornado 6.1 which is incompatible.\n",
            "datascience 0.10.6 requires folium==0.2.1, but you have folium 0.8.3 which is incompatible.\n",
            "albumentations 0.1.12 requires imgaug<0.2.7,>=0.2.5, but you have imgaug 0.2.9 which is incompatible.\u001b[0m\n",
            "Successfully installed addict-2.4.0 anyio-3.4.0 deprecation-2.1.0 json5-0.9.6 jsonschema-4.2.1 jupyter-client-7.1.0 jupyter-packaging-0.11.1 jupyter-server-1.12.1 jupyterlab-3.2.4 jupyterlab-server-2.8.2 nbclassic-0.3.4 open3d-0.13.0 pillow-8.4.0 pygments-2.10.0 pyyaml-6.0 sniffio-1.2.0 tomlkit-0.7.2 tornado-6.1 websocket-client-1.2.1\n"
          ]
        },
        {
          "output_type": "display_data",
          "data": {
            "application/vnd.colab-display-data+json": {
              "pip_warning": {
                "packages": [
                  "PIL",
                  "jupyter_client",
                  "pygments",
                  "tornado"
                ]
              }
            }
          },
          "metadata": {}
        }
      ]
    },
    {
      "cell_type": "code",
      "metadata": {
        "id": "zesmPAwgI3U9"
      },
      "source": [
        "# importar\n",
        "import numpy as np\n",
        "import pandas as pd\n",
        "import ipyvolume as ipv\n",
        "import open3d as o3d\n",
        "from pyntcloud import PyntCloud as pytc\n",
        "import copy\n",
        "import time"
      ],
      "execution_count": 4,
      "outputs": []
    },
    {
      "cell_type": "markdown",
      "metadata": {
        "id": "K8-FzP5kt3xh"
      },
      "source": [
        "## **2 - Como importar uma nuvem de pontos 3D?**\n",
        "Uma nuvem de pontos ter diversos formatos, o mais básico deles é simplesmente um arquivo .txt (ascII) de 3 colunas contendo xyz. Quatro das bibliotecas utilizadas permitem esse tipo de importação, mas algumas são mais eficientes que outras. Outra coisa importante é a formatação e precisão do dado, que pode ser de simples precisão (float32) ou dupla precisão (flaot64). Faremos alguns testes com a importação de uma nuvem média (269 mil pontos) que tem colunas separadas por vírgulas. Utilizaremos todas as bibliotecas que permitem isso:"
      ]
    },
    {
      "cell_type": "markdown",
      "metadata": {
        "id": "LokXajRDAKjz"
      },
      "source": [
        "### **1.1 Import pela Numpy**\n",
        "A numpy lê a nuvem como uma matriz de n linhas e 3 colunas, embora seja uma biblioteca extremamente otimizada e rápida na manipulação de arrays, é um pouco lenta na importação."
      ]
    },
    {
      "cell_type": "code",
      "metadata": {
        "colab": {
          "base_uri": "https://localhost:8080/"
        },
        "id": "Nt7b0AVJe_us",
        "scrolled": true,
        "outputId": "8839c736-295d-4b21-8951-0255fdd7e901"
      },
      "source": [
        "tempo_i = time.time()\n",
        "pc_numpy  = np.loadtxt('/content/gdrive/MyDrive/Mestrado/Proc_de_nuvens_de_pts_3d/nuvens_3D_variadas/s0.txt')\n",
        "tempo_f = time.time() - tempo_i\n",
        "\n",
        "print(pc_numpy)\n",
        "print(len(pc_numpy))\n",
        "print(\"Tempo para ler a nuvem: %.3f\" %tempo_f)"
      ],
      "execution_count": 5,
      "outputs": [
        {
          "output_type": "stream",
          "name": "stdout",
          "text": [
            "[[-40.44937515  22.50149536  -3.76761794]\n",
            " [-40.52937317  22.64649582  -3.77761793]\n",
            " [-40.38437653  22.6914959   -3.76761794]\n",
            " ...\n",
            " [-18.40437508 -10.08850479   7.09238195]\n",
            " [-18.38937378 -10.0035038    7.07238197]\n",
            " [-18.23937416  -7.22850513   7.07238197]]\n",
            "18421\n",
            "Tempo para ler a nuvem: 0.624\n"
          ]
        }
      ]
    },
    {
      "cell_type": "markdown",
      "metadata": {
        "id": "eNTM1Bzdt3xk"
      },
      "source": [
        "### **1.2 Import pela Pandas**\n",
        "A Pandas lê a nuvem como um dataframe e nomeia as colunas dos dados com a primeira linha, para que isto não aconteça damos nomes às colunas: 'x', 'y' e 'z'. A leitura é 6x mais rápida do que pela numpy."
      ]
    },
    {
      "cell_type": "code",
      "metadata": {
        "colab": {
          "base_uri": "https://localhost:8080/"
        },
        "id": "TlUqfalWEgzK",
        "outputId": "49a14b28-3a6d-4e33-fe76-46d99a0c66f3"
      },
      "source": [
        "tempo_i = time.time()\n",
        "pc_pandas = pd.read_csv('/content/gdrive/MyDrive/Mestrado/Proc_de_nuvens_de_pts_3d/nuvens_3D_variadas/s1.txt', names=[\"x\",\"y\",\"z\"])\n",
        "tempo_f = time.time() - tempo_i\n",
        "\n",
        "print(pc_pandas)\n",
        "type(pc_pandas)\n",
        "print(\"Tempo para ler a nuvem: %.3f\" %tempo_f)"
      ],
      "execution_count": 6,
      "outputs": [
        {
          "output_type": "stream",
          "name": "stdout",
          "text": [
            "                                          x   y   z\n",
            "0      -24.82820892 21.61056519 -4.49321604 NaN NaN\n",
            "1      -24.66820908 21.59556580 -4.47821617 NaN NaN\n",
            "2      -24.59571075 21.66806602 -4.47571611 NaN NaN\n",
            "3      -24.49821091 21.72556686 -4.46821594 NaN NaN\n",
            "4      -24.31320953 21.77056503 -4.45821619 NaN NaN\n",
            "...                                     ...  ..  ..\n",
            "19046  -2.64821100 -37.38943481 13.30678368 NaN NaN\n",
            "19047  -2.54821110 -37.39943314 13.30678368 NaN NaN\n",
            "19048  -3.63821101 -37.29443359 13.30678368 NaN NaN\n",
            "19049  -3.53821111 -37.31443405 13.31178474 NaN NaN\n",
            "19050  -3.43821001 -37.32443619 13.31178474 NaN NaN\n",
            "\n",
            "[19051 rows x 3 columns]\n",
            "Tempo para ler a nuvem: 0.162\n"
          ]
        }
      ]
    },
    {
      "cell_type": "markdown",
      "metadata": {
        "id": "EbU6TmCAt3xk"
      },
      "source": [
        "###**1.3 Import pela Pyntcloud**\n",
        "Por trás da Pyntcloud roda a função read_csv da pandas, mas a pyntcloud cria um objeto próprio, não um dataframe. Por ser um biblioteca específica para nuvens de pontos consegue ler a nuvem no formato .pcd, que é padrão neste tipo de dado. O tempo de leitura é igual a numpy"
      ]
    },
    {
      "cell_type": "code",
      "metadata": {
        "colab": {
          "base_uri": "https://localhost:8080/"
        },
        "id": "p1YzTESCE0aL",
        "outputId": "c3fd1004-8435-4012-8f8c-61e8d26359ba"
      },
      "source": [
        "tempo_i = time.time()\n",
        "pc_pyntcloud = pytc.from_file('/content/gdrive/MyDrive/Mestrado/Proc_de_nuvens_de_pts_3d/nuvens_3D_variadas/s0.pcd')\n",
        "tempo_f = time.time() - tempo_i\n",
        "\n",
        "print(pc_pyntcloud)\n",
        "type(pc_pyntcloud)\n",
        "print(\"Tempo para ler a nuvem: %.3f\" %tempo_f)"
      ],
      "execution_count": 7,
      "outputs": [
        {
          "output_type": "stream",
          "name": "stdout",
          "text": [
            "PyntCloud\n",
            "18421 points with 0 scalar fields\n",
            "0 faces in mesh\n",
            "0 kdtrees\n",
            "0 voxelgrids\n",
            "Centroid: 9.542437737763976e-07, -6.361625537465443e-07, 7.952031637614709e-07\n",
            "Other attributes:\n",
            "\n",
            "Tempo para ler a nuvem: 0.282\n"
          ]
        }
      ]
    },
    {
      "cell_type": "markdown",
      "metadata": {
        "id": "vQAHNyIWt3xm"
      },
      "source": [
        "###**1.4 Import pela Open3D**\n",
        "A Open3D consegue ler arquivos pcd, ply e ascii como: .xyz, .xyzrgb, .xyzn e .pts. Todavia, no caso dos tipos ascii, ela não consegue ler dados separados por vírgula. Importaremos a nuvem em formato .pcd que é mais rápido."
      ]
    },
    {
      "cell_type": "code",
      "metadata": {
        "colab": {
          "base_uri": "https://localhost:8080/"
        },
        "id": "tGqeOEUdEtXc",
        "outputId": "0027c9e7-da48-488e-8d63-5a2844015948"
      },
      "source": [
        "tempo_i = time.time()\n",
        "pc_open3d = o3d.io.read_point_cloud('/content/gdrive/MyDrive/Mestrado/Proc_de_nuvens_de_pts_3d/nuvens_3D_variadas/s0.pcd')\n",
        "tempo_f = time.time() - tempo_i\n",
        "\n",
        "print(pc_open3d)\n",
        "type(pc_open3d)\n",
        "print(\"Tempo para ler a nuvem: %.3f\" %tempo_f)"
      ],
      "execution_count": 8,
      "outputs": [
        {
          "output_type": "stream",
          "name": "stdout",
          "text": [
            "PointCloud with 18421 points.\n",
            "Tempo para ler a nuvem: 0.023\n"
          ]
        }
      ]
    },
    {
      "cell_type": "markdown",
      "metadata": {
        "id": "skkYEYa1T3xE"
      },
      "source": [
        "#**2 - Visualização**\n",
        "###**2.1 Visualização com a PyntCloud**\n",
        "A visualização da pyntcloud aparece com os pontos em tamanhos exagerados, mas é possível alterar isso facilmente para que a nuvem apareça normalmente"
      ]
    },
    {
      "cell_type": "code",
      "metadata": {
        "id": "8XXaTlQLTOo7"
      },
      "source": [
        "from google.colab import output\n",
        "output.enable_custom_widget_manager()\n",
        "pc_pyntcloud.plot()"
      ],
      "execution_count": null,
      "outputs": []
    },
    {
      "cell_type": "code",
      "metadata": {
        "id": "AJkH2MS5TOo8"
      },
      "source": [
        "from google.colab import output\n",
        "output.disable_custom_widget_manager()"
      ],
      "execution_count": 18,
      "outputs": []
    },
    {
      "cell_type": "markdown",
      "metadata": {
        "id": "1gFDFVFlt3xo"
      },
      "source": [
        "### **2.2 Visualização com a ipyVolume**\n",
        "A ipyVolume permite animações e muitos outros recursos da ipywidgets incorporados na sua implementação.\n",
        "Todavia, a renderização é mais complexa e pode ficar lenta dependendo do seu hardware. Para plotar os pontos precisamos das colunas da matriz numpy."
      ]
    },
    {
      "cell_type": "code",
      "metadata": {
        "id": "GL94w9JnUQ9L"
      },
      "source": [
        "from google.colab import output\n",
        "output.enable_custom_widget_manager()\n",
        "x = pc_numpy[:,0];y = pc_numpy[:,1];z = pc_numpy[:,2]\n",
        "ipv.quickscatter(x, y, z, size=0.5, marker=\"sphere\")"
      ],
      "execution_count": null,
      "outputs": []
    },
    {
      "cell_type": "code",
      "metadata": {
        "id": "1XHpii7HUQ9L"
      },
      "source": [
        "from google.colab import output\n",
        "output.disable_custom_widget_manager()"
      ],
      "execution_count": 12,
      "outputs": []
    },
    {
      "cell_type": "markdown",
      "metadata": {
        "id": "fsnipOkut3xp"
      },
      "source": [
        "### **2.3 Visualização com a Open3d** \n",
        "A Open3d não suporta visualizações dentro de cadernos jupyter, e a nuvem não aparece se os dados estiverem em coordenadas UTM. Para contornar isso basta centralizar a nuvem. Além disso, o objeto tem que ser passado como uma lista para a função draw_geometries"
      ]
    },
    {
      "cell_type": "code",
      "metadata": {
        "id": "2TTdAyJ2yXDI"
      },
      "source": [
        "o3d.visualization.draw_geometries([pc_open3d])"
      ],
      "execution_count": null,
      "outputs": []
    },
    {
      "cell_type": "markdown",
      "metadata": {
        "id": "rXFPSrZIYeOz"
      },
      "source": [
        "### **2.4 Visualização com a Plotly**\n",
        "A unica que funciona no colab mesmo é a Plotly"
      ]
    },
    {
      "cell_type": "code",
      "metadata": {
        "id": "EUHwqNAXaBId"
      },
      "source": [
        "# install e import bbox\n",
        "!pip install -q bbox-utils\n",
        "from bbox_utils.point_cloud import PointCloud\n",
        "import plotly.graph_objects as go"
      ],
      "execution_count": 19,
      "outputs": []
    },
    {
      "cell_type": "code",
      "metadata": {
        "id": "92885lOQYmeb"
      },
      "source": [
        "pcd = PointCloud.load_from_file('/content/gdrive/MyDrive/Mestrado/Proc_de_nuvens_de_pts_3d/nuvens_3D_variadas/s0.pcd')\n",
        "_ = pcd.display()"
      ],
      "execution_count": null,
      "outputs": []
    },
    {
      "cell_type": "markdown",
      "metadata": {
        "id": "8IvtRxBXAKUE"
      },
      "source": [
        "Essa funcao substitui a função de visualizacao da Open3D pela da plotly"
      ]
    },
    {
      "cell_type": "code",
      "metadata": {
        "id": "Ym5xC_SW_YvV"
      },
      "source": [
        "def draw_geometries(geometries):\n",
        "    graph_objects = []\n",
        "\n",
        "    for geometry in geometries:\n",
        "        geometry_type = geometry.get_geometry_type()\n",
        "        \n",
        "        if geometry_type == o3d.geometry.Geometry.Type.PointCloud:\n",
        "            points = np.asarray(geometry.points)\n",
        "            colors = None\n",
        "            if geometry.has_colors():\n",
        "                colors = np.asarray(geometry.colors)\n",
        "            elif geometry.has_normals():\n",
        "                colors = (0.5, 0.5, 0.5) + np.asarray(geometry.normals) * 0.5\n",
        "            else:\n",
        "                geometry.paint_uniform_color((1.0, 0.0, 0.0))\n",
        "                colors = np.asarray(geometry.colors)\n",
        "\n",
        "            scatter_3d = go.Scatter3d(x=points[:,0], y=points[:,1], z=points[:,2], mode='markers', marker=dict(size=1, color=colors))\n",
        "            graph_objects.append(scatter_3d)\n",
        "\n",
        "        if geometry_type == o3d.geometry.Geometry.Type.TriangleMesh:\n",
        "            triangles = np.asarray(geometry.triangles)\n",
        "            vertices = np.asarray(geometry.vertices)\n",
        "            colors = None\n",
        "            if geometry.has_triangle_normals():\n",
        "                colors = (0.5, 0.5, 0.5) + np.asarray(geometry.triangle_normals) * 0.5\n",
        "                colors = tuple(map(tuple, colors))\n",
        "            else:\n",
        "                colors = (1.0, 0.0, 0.0)\n",
        "            \n",
        "            mesh_3d = go.Mesh3d(x=vertices[:,0], y=vertices[:,1], z=vertices[:,2], i=triangles[:,0], j=triangles[:,1], k=triangles[:,2], facecolor=colors, opacity=0.50)\n",
        "            graph_objects.append(mesh_3d)\n",
        "        \n",
        "    fig = go.Figure(\n",
        "        data=graph_objects,\n",
        "        layout=dict(\n",
        "            scene=dict(\n",
        "                xaxis=dict(visible=False),\n",
        "                yaxis=dict(visible=False),\n",
        "                zaxis=dict(visible=False)\n",
        "            )\n",
        "        )\n",
        "    )\n",
        "    fig.show()\n",
        "\n",
        "o3d.visualization.draw_geometries = draw_geometries # altera a funcao da open3D para usar a da plotly"
      ],
      "execution_count": 32,
      "outputs": []
    },
    {
      "cell_type": "markdown",
      "metadata": {
        "id": "In0MfHd0t3xp"
      },
      "source": [
        "## **3 - Kd-trees & Octrees**\n",
        "Kd-trees e octrees são estruturas utilizadas quando manipulamos nuvens de pontos. A maioria dos filtros e diversas outras funcionalidades necessitam de kd-trees e octrees para funcionar. O nome tree (árvore) se deve à forma como o objeto é criado através de subdivisões do espaço. Apenas as bibliotecas Open3D e Pyncloud, específicas para nuvens de pontos, trabalham com este objeto."
      ]
    },
    {
      "cell_type": "markdown",
      "metadata": {
        "id": "oR8MCSNn6XPl"
      },
      "source": [
        "## **3.1 Pyntcloud**\n",
        "No exemplo abaixo utilizamos uma kd-tree gerada pela pyntcloud para selecionar os k vizinhos mais próximos de cada ponto da nuvem. A estrutura gerada é uma matriz com k colunas dos índices dos pts mais próximos."
      ]
    },
    {
      "cell_type": "code",
      "metadata": {
        "id": "5G6hBctgt3xp"
      },
      "source": [
        "# Adicionar estrutura kdtree na nuvem:\n",
        "kdtree_pyntcloud = pc_pyntcloud.add_structure(\"kdtree\")\n",
        "# Guardar os índices dos 6 vizinhos mais próximos de cada ponto:\n",
        "k_vizinhos = pc_pyntcloud.get_neighbors(k=6,kdtree=kdtree_pyntcloud)\n",
        "print(k_vizinhos)"
      ],
      "execution_count": null,
      "outputs": []
    },
    {
      "cell_type": "markdown",
      "metadata": {
        "id": "CWZSFTnjt3xp"
      },
      "source": [
        "A função abaixo permite subdividir o espaço ocupado pela nuvem com uma octree. Os parâmetros da subdivisão podem ser a quantidade de voxels finais desejados em cada eixo (n_x=1, n_y=1, n_z=1) ou o tamanho dos voxels criados em cada eixo (size_x=1.0, size_y=1.0, size_z=1.0). Colocar valores pequenos nos tamanhos (abaixo de 0.5) ou muito grandes nas quantidades finais (acima de 100) costuma travar o Jupyter por falta de memória. Setar 'None' nos tamanhos se quiser usar as quantidades."
      ]
    },
    {
      "cell_type": "code",
      "metadata": {
        "id": "8WsB9tLBt3xp"
      },
      "source": [
        "# Adicionar octree na nuvem importada com a Pyntcloud\n",
        "voxelgrid_pyntcloud = pc_pyntcloud.add_structure(\"voxelgrid\", n_x=1, n_y=1, n_z=1, size_x=1.0, size_y=1.0, size_z=1.0)\n",
        "print(voxelgrid_pyntcloud)"
      ],
      "execution_count": null,
      "outputs": []
    },
    {
      "cell_type": "markdown",
      "metadata": {
        "id": "8wUWPxFPt3xq"
      },
      "source": [
        "## **3.2 Open3D**\n",
        "Kdtrees na Open3D são implementadas utilizando o algoritmo FLANN (Fast Library for Approximate Nearest Neighbors). Diferente da pyntcloud, esse algoritmo não procura todos os pontos mais pŕoximos por força bruta."
      ]
    },
    {
      "cell_type": "code",
      "metadata": {
        "id": "AfRUaHMHt3xq"
      },
      "source": [
        "# Pinta a nuvem de amarelo\n",
        "pc_open3d.paint_uniform_color([0.8, 0.8, 0])\n",
        "\n",
        "# Cria a kd-tree na nuvem\n",
        "pcd_tree = o3d.geometry.KDTreeFlann(pc_open3d)\n",
        "\n",
        "# Pinta o ponto de indice 1000 de vermelho:\n",
        "pc_open3d.colors[1000] = [1, 0, 0]\n",
        "\n",
        "# Procura os 1000 pontos vizinhos do ponto anterior\n",
        "[k, idx, _] = pcd_tree.search_knn_vector_3d(pc_open3d.points[1000],1000)\n",
        "\n",
        "# Pinta os vizinhos de azul:\n",
        "np.asarray(pc_open3d.colors)[idx[1:], :] = [0, 0, 1]\n",
        "\n",
        "# Encontra os vizinhos com distância menor que 5 m:\n",
        "[k, idx, _] = pcd_tree.search_radius_vector_3d(pc_open3d.points[1000],5.0)\n",
        "\n",
        "# Pinta os vizinhos dentro dos 5 m de preto:\n",
        "np.asarray(pc_open3d.colors)[idx[1:], :] = [0, 0, 0]\n",
        "\n",
        "# Plota a nuvem:\n",
        "o3d.visualization.draw_geometries([pc_open3d])"
      ],
      "execution_count": null,
      "outputs": []
    },
    {
      "cell_type": "markdown",
      "metadata": {
        "id": "spOtfPCKt3xq"
      },
      "source": [
        "### **Voxels**\n",
        "A linha baixo cria uma octree com 64 voxels utilizando a Open3D, para isso ela divide um cubo de 1 m³ centrado em [0,0,0] em cubos menores de 0.25 m de largura, o que dá 4x4x4 voxels."
      ]
    },
    {
      "cell_type": "code",
      "metadata": {
        "id": "cvCSVdwkt3xq"
      },
      "source": [
        "o3d.geometry.VoxelGrid.create_dense([0.0,0.0,0.0],0.25, 1, 1, 1)"
      ],
      "execution_count": null,
      "outputs": []
    },
    {
      "cell_type": "markdown",
      "metadata": {
        "id": "0UNKCwZ-t3xq"
      },
      "source": [
        "# Voxialização"
      ]
    },
    {
      "cell_type": "markdown",
      "metadata": {
        "id": "JqmxhSAgt3xq"
      },
      "source": [
        "Quando temos uma nuvem muito grande é coveniente que se faça uma voxialização para reduzir seu tamanho. Além de deixá-la com densidade uniforme, essa operação consegue reduzir a quantidade de pontos preservando a forma dos objetos. Para o registro a voxialização é crítica pois a operação demanda tempo exponencialmente maior de acordo com o tamanho da nuvem."
      ]
    },
    {
      "cell_type": "markdown",
      "metadata": {
        "id": "ITiP-cPit3xr"
      },
      "source": [
        "Para a voxialização vamos usar a estrutura voxelgrid criada anteriormente com a pyntcloud (voxels com 1m³ de tamanho)\n"
      ]
    },
    {
      "cell_type": "code",
      "metadata": {
        "collapsed": true,
        "colab": {
          "referenced_widgets": [
            "f607040f935e432783e6ba5e2c956448",
            "45f24f1857bd442a8137dda1408b8740"
          ]
        },
        "id": "-H4J1pXYt3xr",
        "outputId": "c042e2f1-55b6-4884-c137-843dd2c0dccf"
      },
      "source": [
        "pc_voxializada_pyntcloud = pc_pyntcloud.get_sample(name='voxelgrid_centers',as_PyntCloud=True,voxelgrid_id=voxelgrid_pyntcloud)\n",
        "print(pc_voxializada_pyntcloud)\n",
        "# Desenhar nuvem voxializada:\n",
        "pc_voxializada_pyntcloud.plot()"
      ],
      "execution_count": null,
      "outputs": [
        {
          "name": "stdout",
          "output_type": "stream",
          "text": [
            "PyntCloud\n",
            "83736 points with 0 scalar fields\n",
            "0 faces in mesh\n",
            "0 kdtrees\n",
            "0 voxelgrids\n",
            "Centroid: 0.8215575814247131, 0.8175594210624695, 0.24738658964633942\n",
            "Other attributes:\n",
            "\n"
          ]
        },
        {
          "data": {
            "application/vnd.jupyter.widget-view+json": {
              "model_id": "f607040f935e432783e6ba5e2c956448",
              "version_major": 2,
              "version_minor": 0
            },
            "text/plain": [
              "Renderer(camera=PerspectiveCamera(aspect=1.6, fov=90.0, position=(0.8215575814247131, 186.13616293668747, 33.9…"
            ]
          },
          "metadata": {},
          "output_type": "display_data"
        },
        {
          "data": {
            "application/vnd.jupyter.widget-view+json": {
              "model_id": "45f24f1857bd442a8137dda1408b8740",
              "version_major": 2,
              "version_minor": 0
            },
            "text/plain": [
              "HBox(children=(Label(value='Point size:'), FloatSlider(value=36.8, max=368.0, step=0.368), Label(value='Backgr…"
            ]
          },
          "metadata": {},
          "output_type": "display_data"
        }
      ]
    },
    {
      "cell_type": "markdown",
      "metadata": {
        "id": "Kfd3DS0Mt3xr"
      },
      "source": [
        "A open3d faz a voxialização direto na nuvem, recebe como parâmetro apenas o tamanho do voxel, quanto maior, menos pontos na nuvem final:"
      ]
    },
    {
      "cell_type": "code",
      "metadata": {
        "id": "7sz77BRSt3xr"
      },
      "source": [
        "pc_voxializada_open3d = pc_open3d.voxel_down_sample(voxel_size=1.0)\n",
        "o3d.visualization.draw_geometries([pc_voxializada_open3d])"
      ],
      "execution_count": null,
      "outputs": []
    },
    {
      "cell_type": "code",
      "metadata": {
        "id": "3kbsCmR0t3xr",
        "outputId": "0ddd7ecd-f100-4bc4-aedc-fccfd550769e"
      },
      "source": [
        "print(pc_voxializada_open3d)"
      ],
      "execution_count": null,
      "outputs": [
        {
          "name": "stdout",
          "output_type": "stream",
          "text": [
            "geometry::PointCloud with 82319 points.\n"
          ]
        }
      ]
    },
    {
      "cell_type": "markdown",
      "metadata": {
        "id": "kHNxFNlpt3xr"
      },
      "source": [
        "# Filtragem"
      ]
    },
    {
      "cell_type": "markdown",
      "metadata": {
        "id": "Ldy6wtwYt3xr"
      },
      "source": [
        "Filtragens são feitas considerando uma vizinhança mínima que deve existir ao redor de um ponto. Essa vizinhança pode ser definida como um raio geométrico ao redor do ponto ou por um desvio-padrão. No primeiro caso temos o filtro por raio, no segundo o filtro estatístico. Recomenda-se fazer a filtragem sempre após a voxialização."
      ]
    },
    {
      "cell_type": "markdown",
      "metadata": {
        "id": "GaUuWFfGt3xr"
      },
      "source": [
        "A filtragem utiliza kd-trees para encontrar vizinhos mais próximos, na pyntcloud precisamos construir a kd-tree da nuvem voxializada que será filtrada:"
      ]
    },
    {
      "cell_type": "code",
      "metadata": {
        "id": "d9Wf_LFRt3xs"
      },
      "source": [
        "kdtree_filtragem = pc_voxializada_pyntcloud.add_structure(\"kdtree\")"
      ],
      "execution_count": null,
      "outputs": []
    },
    {
      "cell_type": "code",
      "metadata": {
        "id": "9Vz7FdIzt3xs",
        "outputId": "cc94f186-bd73-4ff5-9585-22e2f4cd9913"
      },
      "source": [
        "# RADIOS OUTLIER REMOVAL.\n",
        "# ENTRADAS: r=raio, k=nº_de_vizinhos, kdtree_id;   \n",
        "# SAÍDAS: índices dos pontos filtrados.\n",
        "idx = pc_voxializada_pyntcloud.get_filter(name='ROR',k=6,r=1.5,kdtree_id=kdtree_filtragem)\n",
        "\n",
        "pts_filtrados = len(idx)-sum(idx)\n",
        "print(\"pontos filtrados: %d\" %pts_filtrados)"
      ],
      "execution_count": null,
      "outputs": [
        {
          "name": "stdout",
          "output_type": "stream",
          "text": [
            "[[0.         1.00221252 1.41577892 1.41577892 1.41739923 2.00440979]\n",
            " [0.         1.         1.00219727 1.41576812 1.41576812 1.41577892]\n",
            " [0.         1.         1.         1.00219727 1.00221252 1.00229269]\n",
            " ...\n",
            " [0.         1.         1.         1.00219727 1.41576812 1.41576812]\n",
            " [0.         1.         1.00219727 1.41576812 2.         2.00440979]\n",
            " [0.         1.00219727 1.41576812 1.41576812 2.00439453 2.23705149]]\n",
            "pontos filtrados: 3677\n"
          ]
        }
      ]
    },
    {
      "cell_type": "code",
      "metadata": {
        "id": "cqKJUTxet3xs",
        "outputId": "efb873ce-bcd9-4887-b877-da2a0beff24a"
      },
      "source": [
        "# STATISTIICAL OUTLIER REMOVAL.\n",
        "# ENTRADAS: z_max=desvio_padrao, k=nº_de_vizinhos, kdtree_id;   \n",
        "# SAÍDAS: índices dos pontos filtrados.\n",
        "idx = pc_voxializada_pyntcloud.get_filter(name='SOR',k=6,z_max=1.2,kdtree_id=kdtree_filtragem)\n",
        "\n",
        "pts_filtrados = len(idx)-sum(idx)\n",
        "print(\"pontos filtrados: %d\" %pts_filtrados)"
      ],
      "execution_count": null,
      "outputs": [
        {
          "name": "stdout",
          "output_type": "stream",
          "text": [
            "[ 1.74350599  0.66420449 -0.66907319 ...  0.21815981  1.92244333\n",
            "  2.62276719]\n",
            "pontos filtrados: 3101\n"
          ]
        }
      ]
    },
    {
      "cell_type": "markdown",
      "metadata": {
        "id": "m9qx2ovqt3xs"
      },
      "source": [
        "Os mesmos filtros aplicados na mesma nuvem com os mesmos parâmetros produzem resultados diferentes na Open3D. Isso ocorre porque como mencionado anteriormente, o algoritmo da kd-tree é diferente. Além disso, as voxializações produziram nuvens com quantidades de pontos ligeiramente diferentes, mesmo que o tamanho do voxel utilizado tenha sido o mesmo."
      ]
    },
    {
      "cell_type": "code",
      "metadata": {
        "id": "dvQ6c-A8t3xs",
        "outputId": "1e93f85f-cfb8-4f93-b983-85e48773cca9"
      },
      "source": [
        "# FILTRO POR RAIO.\n",
        "# ENTRADAS: Raio e Quantidade mínima de pontos.\n",
        "# SAÍDAS: nuvem filtrada e índices desses pontos.\n",
        "pc_filtrada_raio, ind = pc_voxializada_open3d.remove_radius_outlier(nb_points=6, radius=1.5)\n",
        "print(pc_filtrada_raio)\n",
        "o3d.visualization.draw_geometries([pc_filtrada_raio])\n",
        "\n",
        "pts_filtrados = len(pc_voxializada_open3d.points)-len(pc_filtrada_raio.points)\n",
        "print(\"pontos filtrados: %d\" %pts_filtrados)"
      ],
      "execution_count": null,
      "outputs": [
        {
          "name": "stdout",
          "output_type": "stream",
          "text": [
            "geometry::PointCloud with 73939 points.\n",
            "pontos filtrados: 8380\n"
          ]
        }
      ]
    },
    {
      "cell_type": "code",
      "metadata": {
        "id": "LpSsZ0Yjt3xs",
        "outputId": "96223071-3ae1-4c44-c516-cd6ab2aefeb2"
      },
      "source": [
        "# FILTRO ESTATÍTISTICO.\n",
        "# ENTRADAS: Desvio-Padrão e Quantidade mínima de pontos.\n",
        "# SAÍDAS: nuvem filtrada e índices desses pontos.\n",
        "pc_filtrada_estat, ind = pc_voxializada_open3d.remove_statistical_outlier(nb_neighbors=6, std_ratio=1.2)\n",
        "print(pc_filtrada_estat)\n",
        "o3d.visualization.draw_geometries([pc_filtrada_estat])\n",
        "\n",
        "pts_filtrados = len(pc_voxializada_open3d.points)-len(pc_filtrada_estat.points)\n",
        "print(\"pontos filtrados: %d\" %pts_filtrados)"
      ],
      "execution_count": null,
      "outputs": [
        {
          "name": "stdout",
          "output_type": "stream",
          "text": [
            "geometry::PointCloud with 80153 points.\n",
            "pontos filtrados: 2166\n"
          ]
        }
      ]
    },
    {
      "cell_type": "markdown",
      "metadata": {
        "id": "1hmViTjht3xt"
      },
      "source": [
        "Por algum motivo desconhecido a função 'select_down_sample' faz o Kernel do jupyter parar de funcionar, então infelizmente não conseguiremos mostrar as duas nuvens (inliers e outliers) com a célula abaixo: (rodar ela irá parar o Kernel)"
      ]
    },
    {
      "cell_type": "code",
      "metadata": {
        "id": "L8LYCUSJt3xt",
        "outputId": "be093a9d-3c7c-4b5d-b2c2-95d17bdc8f59"
      },
      "source": [
        "# Separa as duas nuvens em pontos restantes (inliers) e removidos (outliers)\n",
        "pontos_restantes = pc_filtrada_1.select_down_sample(ind)\n",
        "pontos_removidos = pc_filtrada_1.select_down_sample(ind, invert=True)\n",
        "\n",
        "# Coloca cores diferentes nas nuvens:\n",
        "pontos_restantes.paint_uniform_color([1,0,0])       # Inliers  -> vermelho\n",
        "pontos_removidos.paint_uniform_color([0.8,0.8,0.8]) # outliers -> cinza\n",
        "\n",
        "# Desenhar as duas nuvens\n",
        "o3d.visualization.draw_geometries([pontos_restantes, pontos_removidos])"
      ],
      "execution_count": null,
      "outputs": [
        {
          "ename": "NameError",
          "evalue": "name 'pc_filtrada_1' is not defined",
          "output_type": "error",
          "traceback": [
            "\u001b[0;31m---------------------------------------------------------------------------\u001b[0m",
            "\u001b[0;31mNameError\u001b[0m                                 Traceback (most recent call last)",
            "\u001b[0;32m<ipython-input-13-0c486abc3387>\u001b[0m in \u001b[0;36m<module>\u001b[0;34m\u001b[0m\n\u001b[1;32m      1\u001b[0m \u001b[0;31m# Separa as duas nuvens em pontos restantes (inliers) e removidos (outliers)\u001b[0m\u001b[0;34m\u001b[0m\u001b[0;34m\u001b[0m\u001b[0;34m\u001b[0m\u001b[0m\n\u001b[0;32m----> 2\u001b[0;31m \u001b[0mpontos_restantes\u001b[0m \u001b[0;34m=\u001b[0m \u001b[0mpc_filtrada_1\u001b[0m\u001b[0;34m.\u001b[0m\u001b[0mselect_down_sample\u001b[0m\u001b[0;34m(\u001b[0m\u001b[0mind\u001b[0m\u001b[0;34m)\u001b[0m\u001b[0;34m\u001b[0m\u001b[0;34m\u001b[0m\u001b[0m\n\u001b[0m\u001b[1;32m      3\u001b[0m \u001b[0mpontos_removidos\u001b[0m \u001b[0;34m=\u001b[0m \u001b[0mpc_filtrada_1\u001b[0m\u001b[0;34m.\u001b[0m\u001b[0mselect_down_sample\u001b[0m\u001b[0;34m(\u001b[0m\u001b[0mind\u001b[0m\u001b[0;34m,\u001b[0m \u001b[0minvert\u001b[0m\u001b[0;34m=\u001b[0m\u001b[0;32mTrue\u001b[0m\u001b[0;34m)\u001b[0m\u001b[0;34m\u001b[0m\u001b[0;34m\u001b[0m\u001b[0m\n\u001b[1;32m      4\u001b[0m \u001b[0;34m\u001b[0m\u001b[0m\n\u001b[1;32m      5\u001b[0m \u001b[0;31m# Coloca cores diferentes nas nuvens:\u001b[0m\u001b[0;34m\u001b[0m\u001b[0;34m\u001b[0m\u001b[0;34m\u001b[0m\u001b[0m\n",
            "\u001b[0;31mNameError\u001b[0m: name 'pc_filtrada_1' is not defined"
          ]
        }
      ]
    },
    {
      "cell_type": "markdown",
      "metadata": {
        "id": "13-zL3lQt3xt"
      },
      "source": [
        "# Registro de pares de nuvens de pontos"
      ]
    },
    {
      "cell_type": "markdown",
      "metadata": {
        "id": "DvgPmkeFt3xt"
      },
      "source": [
        "Apenas a Open3D tem funções implementadas para fazer o registro de nuvens de pontos. Essas funções se subdividem em registros globais para alinhamento inicial e registros finos, que consistem em variações do ICP (Iterative Closest Point). O registro é simplesmente o alinhamento de duas nuvens no mesmo referencial, portanto, a sua saída é uma matriz de transformação que inclui uma rotação e uma translação em uma única matriz 4x4."
      ]
    },
    {
      "cell_type": "markdown",
      "metadata": {
        "id": "P2JVwf6Tt3xt"
      },
      "source": [
        "Para efetuar o registro precisamos de duas nuvens, das normais dos pontos e dos descritores dos pontos. E para o cálculo das normais e dos descritores precisamos da kd-tree. A seguir fazemos todo o pre-processamento:"
      ]
    },
    {
      "cell_type": "code",
      "metadata": {
        "id": "QWfEPUmlt3xt",
        "outputId": "19304d1b-b520-438a-f062-7d33fbaaaa77"
      },
      "source": [
        "# Importar duas nuvens com sobreposição e posições translocadas/rotacionadas:\n",
        "pc_open3d_1 = o3d.io.read_point_cloud(\"/home/rubens/Nuvem_Pontos_3D/recorte_translocado_1.pcd\")\n",
        "pc_open3d_2 = o3d.io.read_point_cloud(\"/home/rubens/Nuvem_Pontos_3D/recorte_translocado_2.pcd\")\n",
        "\n",
        "# Voxializar as nuvens:\n",
        "pc_voxializada_1 = pc_open3d_1.voxel_down_sample(voxel_size=0.2)\n",
        "pc_voxializada_2 = pc_open3d_2.voxel_down_sample(voxel_size=0.2)\n",
        "\n",
        "# Filtrar as nuvens (filtro estatístico):\n",
        "pc_filtrada_1, ind = pc_voxializada_1.remove_statistical_outlier(nb_neighbors=6, std_ratio=2.0)\n",
        "pc_filtrada_2, ind = pc_voxializada_2.remove_statistical_outlier(nb_neighbors=6, std_ratio=2.0)\n",
        "\n",
        "# Construir kd-tree para calcular normais (30 cm) e outra para calcular descritores (5 m):\n",
        "kd_tree_normais     = o3d.geometry.KDTreeSearchParamHybrid(radius=0.3, max_nn=30)\n",
        "kd_tree_descritores = o3d.geometry.KDTreeSearchParamHybrid(radius=5.0, max_nn=1000)\n",
        "\n",
        "# Calcular normais das nuvens:\n",
        "normais_1 = pc_filtrada_1.estimate_normals(kd_tree_normais)\n",
        "normais_2 = pc_filtrada_2.estimate_normals(kd_tree_normais)\n",
        "\n",
        "# Calcular descritores das nuvens:\n",
        "pc_fpfh_1 = o3d.registration.compute_fpfh_feature(pc_filtrada_1,kd_tree_descritores)\n",
        "pc_fpfh_2 = o3d.registration.compute_fpfh_feature(pc_filtrada_2,kd_tree_descritores)\n",
        "\n",
        "print(pc_filtrada_1)\n",
        "print(pc_filtrada_2)\n",
        "pc_filtrada_1.paint_uniform_color([0.8, 0.8, 0])\n",
        "pc_filtrada_2.paint_uniform_color([0, 0, 0.9])\n",
        "o3d.visualization.draw_geometries([pc_filtrada_1,pc_filtrada_2])"
      ],
      "execution_count": null,
      "outputs": [
        {
          "name": "stdout",
          "output_type": "stream",
          "text": [
            "geometry::PointCloud with 10203 points.\n",
            "geometry::PointCloud with 11666 points.\n"
          ]
        }
      ]
    },
    {
      "cell_type": "code",
      "metadata": {
        "id": "mk7ggma7t3xu"
      },
      "source": [
        "# Função para desenhar o resultado do registro com duas cores diferentes para cada nuvem\n",
        "def draw_registration_result(source, target, transformation):\n",
        "    source_temp = copy.deepcopy(source)\n",
        "    target_temp = copy.deepcopy(target)\n",
        "    source_temp.paint_uniform_color([0.8, 0.8, 0])\n",
        "    target_temp.paint_uniform_color([0, 0, 0.9])\n",
        "    source_temp.transform(transformation)\n",
        "    o3d.visualization.draw_geometries([source_temp, target_temp])"
      ],
      "execution_count": null,
      "outputs": []
    },
    {
      "cell_type": "code",
      "metadata": {
        "id": "APkZtsJLt3xu"
      },
      "source": [
        "# Definir o limites convergência do registro:\n",
        "limite_distancia   = 0.4\n",
        "limite_comprimento = 0.4\n",
        "limite_normais     = 0.01 # em radianos\n",
        "\n",
        "# Definir os limites de correspondência para os descritores:\n",
        "limite_co_comprimento = o3d.registration.CorrespondenceCheckerBasedOnEdgeLength(0.9)\n",
        "limite_co_distancia = o3d.registration.CorrespondenceCheckerBasedOnDistance(0.9)\n",
        "limite_co_normais = o3d.registration.CorrespondenceCheckerBasedOnNormal(limite_normais)\n",
        "\n",
        "# Definir o tipo de registro (ponto-ponto) e se incorpora mudanças na escala (False = transformação rígida 3D)\n",
        "tipo_registro = o3d.registration.TransformationEstimationPointToPlane()\n",
        "\n",
        "# Definir parâmetros do algoritmo RANSAC: amostragem mínima de pontos e parada\n",
        "ransac_n = 4\n",
        "criterio_parada_RANSAC = o3d.registration.RANSACConvergenceCriteria(40000000, 5000) # quanto maior melhor, pode demorar bastante"
      ],
      "execution_count": null,
      "outputs": []
    },
    {
      "cell_type": "markdown",
      "metadata": {
        "id": "xXu7KFCLt3xu"
      },
      "source": [
        "# Registro Global 1: RANSAC BASED ON FEATURE MATCH"
      ]
    },
    {
      "cell_type": "code",
      "metadata": {
        "id": "XUTHiKKyt3xu",
        "outputId": "9dd0d0ce-67af-4595-887d-dfad1001f173"
      },
      "source": [
        "resultado_RANSAC = o3d.registration.registration_ransac_based_on_feature_matching(pc_filtrada_1,\n",
        "                                                                                  pc_filtrada_2,\n",
        "                                                                                  pc_fpfh_1,\n",
        "                                                                                  pc_fpfh_2,\n",
        "                                                                                  limite_normais,\n",
        "                                                                                  tipo_registro,\n",
        "                                                                                  ransac_n,\n",
        "                                                                                  [limite_co_normais],\n",
        "                                                                                  criterio_parada_RANSAC)\n",
        "print(resultado_RANSAC)\n",
        "draw_registration_result(pc_filtrada_1, pc_filtrada_2,resultado_RANSAC.transformation)\n",
        "resultado_RANSAC.transformation"
      ],
      "execution_count": null,
      "outputs": [
        {
          "name": "stdout",
          "output_type": "stream",
          "text": [
            "registration::RegistrationResult with fitness = 0.003136, inlier_rmse = 0.008452, and correspondence_set size of 32\n",
            "Access transformation to get result.\n"
          ]
        },
        {
          "data": {
            "text/plain": [
              "array([[ 9.99989322e-01, -3.84586580e-06, -4.62119507e-03,\n",
              "         0.00000000e+00],\n",
              "       [-4.23516474e-22,  9.99999654e-01, -8.32222922e-04,\n",
              "         8.28861899e+00],\n",
              "       [ 4.62119667e-03,  8.32214036e-04,  9.99988976e-01,\n",
              "         1.76833410e-02],\n",
              "       [ 0.00000000e+00,  0.00000000e+00,  0.00000000e+00,\n",
              "         1.00000000e+00]])"
            ]
          },
          "execution_count": 21,
          "metadata": {},
          "output_type": "execute_result"
        }
      ]
    },
    {
      "cell_type": "markdown",
      "metadata": {
        "id": "ZKWIG-3nt3xu"
      },
      "source": [
        "# Registro Global 2: FAST-GLOBAL-REGISTRATION (ZHOU, 2016)"
      ]
    },
    {
      "cell_type": "code",
      "metadata": {
        "id": "N9ci6otJt3xu",
        "outputId": "5256d055-528a-4ab7-b269-8ea3f9d64cf7"
      },
      "source": [
        "# Definir parâmetros do registro FGR\n",
        "registro_FGR = o3d.registration.FastGlobalRegistrationOption(division_factor = 1.4,         # padrão: 1.4 \n",
        "                                                             use_absolute_scale = True,     # padrão: False\n",
        "                                                             decrease_mu = False,           # padrão: False\n",
        "                                                             maximum_correspondence_distance = 0.015, # padrão: 0.025             \n",
        "                                                             iteration_number = 6400,       # padrão: 64 \n",
        "                                                             tuple_scale = 0.95,            # padrão: 0.95\n",
        "                                                             maximum_tuple_count = 100000)  # padrão: 1000\n",
        "# Executar registro FGR\n",
        "resultado_FGR = o3d.registration.registration_fast_based_on_feature_matching(pc_filtrada_1,\n",
        "                                                                             pc_filtrada_2, \n",
        "                                                                             pc_fpfh_1,\n",
        "                                                                             pc_fpfh_2,\n",
        "                                                                             registro_FGR)\n",
        "\n",
        "draw_registration_result(pc_filtrada_1, pc_filtrada_2, resultado_FGR.transformation)\n",
        "print(resultado_FGR)\n",
        "resultado_FGR.transformation"
      ],
      "execution_count": null,
      "outputs": [
        {
          "name": "stdout",
          "output_type": "stream",
          "text": [
            "registration::RegistrationResult with fitness = 0.000000, inlier_rmse = 0.000000, and correspondence_set size of 0\n",
            "Access transformation to get result.\n"
          ]
        },
        {
          "data": {
            "text/plain": [
              "array([[ 9.96887994e-01,  7.86483145e-02,  5.36379236e-03,\n",
              "         4.62864872e-02],\n",
              "       [-7.86504558e-02,  9.96902237e-01,  1.89117619e-04,\n",
              "        -2.22704266e+00],\n",
              "       [-5.33230282e-03, -6.10393798e-04,  9.99985597e-01,\n",
              "        -3.65049953e-02],\n",
              "       [ 0.00000000e+00, -0.00000000e+00, -0.00000000e+00,\n",
              "         1.00000000e+00]])"
            ]
          },
          "execution_count": 22,
          "metadata": {},
          "output_type": "execute_result"
        }
      ]
    },
    {
      "cell_type": "markdown",
      "metadata": {
        "id": "ex12G-xjt3xv"
      },
      "source": [
        "# Refinamento do registro global 1 por ICP-PONTO-PONTO"
      ]
    },
    {
      "cell_type": "code",
      "metadata": {
        "id": "n0kAhJUBWsUv"
      },
      "source": [
        "limite = 0.01\n",
        "tipo_registro = o3d.registration.TransformationEstimationPointToPoint()\n",
        "reg_p2p = o3d.registration.registration_icp(pc_filtrada_1,\n",
        "                                            pc_filtrada_2,\n",
        "                                            limite, \n",
        "                                            resultado_RANSAC.transformation,\n",
        "                                            tipo_registro)\n",
        "draw_registration_result(pc_filtrada_1, pc_filtrada_2, reg_p2p.transformation)\n",
        "print(reg_p2p)\n",
        "reg_p2p.transformation"
      ],
      "execution_count": null,
      "outputs": []
    },
    {
      "cell_type": "markdown",
      "metadata": {
        "id": "fRw0iixPt3xv"
      },
      "source": [
        "# Refinamento do registro global 1 por ICP-PONTO-PLANO"
      ]
    },
    {
      "cell_type": "code",
      "metadata": {
        "id": "a6VKKaXu8hB3",
        "outputId": "43b05d80-32cf-4e2f-d610-0ad7db8a9c98"
      },
      "source": [
        "# ICP PONTO-PLANO\n",
        "limite = 0.01\n",
        "tipo_registro = o3d.registration.TransformationEstimationPointToPlane()\n",
        "reg_p2l = o3d.registration.registration_icp(pc_filtrada_1,\n",
        "                                            pc_filtrada_2,\n",
        "                                            limite, \n",
        "                                            resultado_RANSAC.transformation,\n",
        "                                            tipo_registro)\n",
        "draw_registration_result(pc_filtrada_1, pc_filtrada_2, reg_p2l.transformation)\n",
        "print(reg_p2l)\n",
        "reg_p2l.transformation"
      ],
      "execution_count": null,
      "outputs": [
        {
          "name": "stdout",
          "output_type": "stream",
          "text": [
            "registration::RegistrationResult with fitness = 0.000000, inlier_rmse = 0.000000, and correspondence_set size of 0\n",
            "Access transformation to get result.\n"
          ]
        },
        {
          "data": {
            "text/plain": [
              "array([[ 9.99989162e-01,  1.28826632e-04, -4.65387826e-03,\n",
              "        -4.79051625e+07],\n",
              "       [-1.32438416e-04,  9.99999690e-01, -7.75780703e-04,\n",
              "         8.29135811e+00],\n",
              "       [ 4.65377688e-03,  7.76388648e-04,  9.99988870e-01,\n",
              "         1.62649361e-02],\n",
              "       [ 0.00000000e+00,  0.00000000e+00,  0.00000000e+00,\n",
              "         1.00000000e+00]])"
            ]
          },
          "execution_count": 27,
          "metadata": {},
          "output_type": "execute_result"
        }
      ]
    },
    {
      "cell_type": "markdown",
      "metadata": {
        "id": "wdxOHPjHt3xv"
      },
      "source": [
        "# Refinamento do registro global 2 por ICP-PONTO-PONTO"
      ]
    },
    {
      "cell_type": "code",
      "metadata": {
        "id": "srbZYcbIt3xv",
        "outputId": "00a55042-90ee-481b-aa36-a51a26404a26"
      },
      "source": [
        "limite_distancia = 0.01\n",
        "tipo_registro = o3d.registration.TransformationEstimationPointToPoint()\n",
        "resultado_icp = o3d.registration.registration_icp(pc_filtrada_1,\n",
        "                                                  pc_filtrada_2, \n",
        "                                                  limite_distancia,\n",
        "                                                  resultado_FGR.transformation,\n",
        "                                                  tipo_registro)\n",
        "print(resultado_icp)\n",
        "draw_registration_result(pc_filtrada_1, pc_filtrada_2, resultado_icp.transformation)\n",
        "resultado_icp.transformation"
      ],
      "execution_count": null,
      "outputs": [
        {
          "name": "stdout",
          "output_type": "stream",
          "text": [
            "registration::RegistrationResult with fitness = 0.000000, inlier_rmse = 0.000000, and correspondence_set size of 0\n",
            "Access transformation to get result.\n"
          ]
        },
        {
          "data": {
            "text/plain": [
              "array([[ 9.96887994e-01,  7.86483145e-02,  5.36379236e-03,\n",
              "         4.62864872e-02],\n",
              "       [-7.86504558e-02,  9.96902237e-01,  1.89117619e-04,\n",
              "        -2.22704266e+00],\n",
              "       [-5.33230282e-03, -6.10393798e-04,  9.99985597e-01,\n",
              "        -3.65049953e-02],\n",
              "       [ 0.00000000e+00,  0.00000000e+00,  0.00000000e+00,\n",
              "         1.00000000e+00]])"
            ]
          },
          "execution_count": 26,
          "metadata": {},
          "output_type": "execute_result"
        }
      ]
    },
    {
      "cell_type": "markdown",
      "metadata": {
        "id": "PERaIhlRt3xv"
      },
      "source": [
        "# Refinamento do registro global 2 por ICP-PONTO-PLANO"
      ]
    },
    {
      "cell_type": "code",
      "metadata": {
        "id": "5_AN0UJDt3xw",
        "outputId": "e9143352-f0c8-419b-996f-83a49b37f72e"
      },
      "source": [
        "limite_distancia = 0.01\n",
        "tipo_registro = o3d.registration.TransformationEstimationPointToPlane()\n",
        "resultado_icp = o3d.registration.registration_icp(pc_filtrada_1,\n",
        "                                                  pc_filtrada_2, \n",
        "                                                  limite_distancia,\n",
        "                                                  resultado_FGR.transformation,\n",
        "                                                  tipo_registro)\n",
        "print(resultado_icp)\n",
        "draw_registration_result(pc_filtrada_1, pc_filtrada_2, resultado_icp.transformation)\n",
        "resultado_icp.transformation"
      ],
      "execution_count": null,
      "outputs": [
        {
          "name": "stdout",
          "output_type": "stream",
          "text": [
            "registration::RegistrationResult with fitness = 0.000000, inlier_rmse = 0.000000, and correspondence_set size of 0\n",
            "Access transformation to get result.\n"
          ]
        },
        {
          "data": {
            "text/plain": [
              "array([[ 9.96887994e-01,  7.86483145e-02,  5.36379236e-03,\n",
              "         4.62864872e-02],\n",
              "       [-7.86504558e-02,  9.96902237e-01,  1.89117619e-04,\n",
              "        -2.22704266e+00],\n",
              "       [-5.33230282e-03, -6.10393798e-04,  9.99985597e-01,\n",
              "        -3.65049953e-02],\n",
              "       [ 0.00000000e+00,  0.00000000e+00,  0.00000000e+00,\n",
              "         1.00000000e+00]])"
            ]
          },
          "execution_count": 25,
          "metadata": {},
          "output_type": "execute_result"
        }
      ]
    },
    {
      "cell_type": "markdown",
      "metadata": {
        "id": "XRI4bQL5t3xw"
      },
      "source": [
        "# Segmentação"
      ]
    },
    {
      "cell_type": "markdown",
      "metadata": {
        "id": "TtsOghFJt3xw"
      },
      "source": [
        "A segmentação de nuvens de pontos consiste em separar estruturas com geometrias iguais. O exemplo mais básico que podemos dar é separar estruturas planas de não planas. Faremos isso calculando os autovalores e com eles calculando índices de planaridade, esfericidade, etc,  para segmentar a nuvem. Utilizaremos a pyntcloud porque nela estes cálculos estão implementados."
      ]
    },
    {
      "cell_type": "code",
      "metadata": {
        "id": "EUyPIwiot3xw",
        "outputId": "b9be5e04-e334-4538-9077-378a7ac0545b"
      },
      "source": [
        "# Adicionar estrutura kdtree na nuvem\n",
        "pc_kdtree  = pc_pyntcloud.add_structure(\"kdtree\")\n",
        "\n",
        "# Vizinhanças de cada ponto k\n",
        "k_vizinhos = pc_pyntcloud.get_neighbors(k=20,kdtree=pc_kdtree)\n",
        "\n",
        "# Adicionar colunas dos autovalores (scalar fields)\n",
        "autovalores = pc_pyntcloud.add_scalar_field(\"eigen_values\", k_neighbors=k_vizinhos)\n",
        "\n",
        "# Adicionar Colunas das medidas dimensionais\n",
        "# Planaridade: (e2-e3/e1)\n",
        "eigen = pc_pyntcloud.add_scalar_field(\"planarity\",ev=autovalores)\n",
        "# Anisotropia: (e1-e3/e1)\n",
        "eigen = pc_pyntcloud.add_scalar_field(\"anisotropy\",ev=autovalores)\n",
        "# Esfericidade: (e3/e1)\n",
        "eigen = pc_pyntcloud.add_scalar_field(\"sphericity\",ev=autovalores)\n",
        "# Variância: (e1*e2*e3)^1/2\n",
        "eigen = pc_pyntcloud.add_scalar_field(\"omnivariance\",ev=autovalores)\n",
        "# Entropia: sum[ei*ln(ei)]\n",
        "eigen = pc_pyntcloud.add_scalar_field(\"eigenentropy\",ev=autovalores)\n",
        "\n",
        "pc_pyntcloud.points.head()"
      ],
      "execution_count": null,
      "outputs": [
        {
          "data": {
            "text/html": [
              "<div>\n",
              "<style scoped>\n",
              "    .dataframe tbody tr th:only-of-type {\n",
              "        vertical-align: middle;\n",
              "    }\n",
              "\n",
              "    .dataframe tbody tr th {\n",
              "        vertical-align: top;\n",
              "    }\n",
              "\n",
              "    .dataframe thead th {\n",
              "        text-align: right;\n",
              "    }\n",
              "</style>\n",
              "<table border=\"1\" class=\"dataframe\">\n",
              "  <thead>\n",
              "    <tr style=\"text-align: right;\">\n",
              "      <th></th>\n",
              "      <th>x</th>\n",
              "      <th>y</th>\n",
              "      <th>z</th>\n",
              "      <th>e1(21)</th>\n",
              "      <th>e2(21)</th>\n",
              "      <th>e3(21)</th>\n",
              "      <th>planarity(21)</th>\n",
              "      <th>anisotropy(21)</th>\n",
              "      <th>sphericity(21)</th>\n",
              "      <th>omnivariance(21)</th>\n",
              "      <th>eigenentropy(21)</th>\n",
              "    </tr>\n",
              "  </thead>\n",
              "  <tbody>\n",
              "    <tr>\n",
              "      <th>0</th>\n",
              "      <td>-53.031326</td>\n",
              "      <td>185.443611</td>\n",
              "      <td>0.658555</td>\n",
              "      <td>0.460452</td>\n",
              "      <td>0.114048</td>\n",
              "      <td>0.000276</td>\n",
              "      <td>0.247088</td>\n",
              "      <td>0.999401</td>\n",
              "      <td>0.000599</td>\n",
              "      <td>0.024376</td>\n",
              "      <td>0.606976</td>\n",
              "    </tr>\n",
              "    <tr>\n",
              "      <th>1</th>\n",
              "      <td>-53.250126</td>\n",
              "      <td>185.568611</td>\n",
              "      <td>0.644555</td>\n",
              "      <td>0.416906</td>\n",
              "      <td>0.125244</td>\n",
              "      <td>0.000251</td>\n",
              "      <td>0.299811</td>\n",
              "      <td>0.999398</td>\n",
              "      <td>0.000602</td>\n",
              "      <td>0.023579</td>\n",
              "      <td>0.627024</td>\n",
              "    </tr>\n",
              "    <tr>\n",
              "      <th>2</th>\n",
              "      <td>-53.453226</td>\n",
              "      <td>185.631111</td>\n",
              "      <td>0.654555</td>\n",
              "      <td>0.412406</td>\n",
              "      <td>0.116085</td>\n",
              "      <td>0.000261</td>\n",
              "      <td>0.280851</td>\n",
              "      <td>0.999368</td>\n",
              "      <td>0.000632</td>\n",
              "      <td>0.023195</td>\n",
              "      <td>0.617420</td>\n",
              "    </tr>\n",
              "    <tr>\n",
              "      <th>3</th>\n",
              "      <td>-53.672026</td>\n",
              "      <td>185.693611</td>\n",
              "      <td>0.650555</td>\n",
              "      <td>0.412406</td>\n",
              "      <td>0.116085</td>\n",
              "      <td>0.000261</td>\n",
              "      <td>0.280851</td>\n",
              "      <td>0.999368</td>\n",
              "      <td>0.000632</td>\n",
              "      <td>0.023195</td>\n",
              "      <td>0.617420</td>\n",
              "    </tr>\n",
              "    <tr>\n",
              "      <th>4</th>\n",
              "      <td>-53.859426</td>\n",
              "      <td>185.756111</td>\n",
              "      <td>0.638555</td>\n",
              "      <td>0.412406</td>\n",
              "      <td>0.116085</td>\n",
              "      <td>0.000261</td>\n",
              "      <td>0.280851</td>\n",
              "      <td>0.999368</td>\n",
              "      <td>0.000632</td>\n",
              "      <td>0.023195</td>\n",
              "      <td>0.617420</td>\n",
              "    </tr>\n",
              "  </tbody>\n",
              "</table>\n",
              "</div>"
            ],
            "text/plain": [
              "           x           y         z    e1(21)    e2(21)    e3(21)  \\\n",
              "0 -53.031326  185.443611  0.658555  0.460452  0.114048  0.000276   \n",
              "1 -53.250126  185.568611  0.644555  0.416906  0.125244  0.000251   \n",
              "2 -53.453226  185.631111  0.654555  0.412406  0.116085  0.000261   \n",
              "3 -53.672026  185.693611  0.650555  0.412406  0.116085  0.000261   \n",
              "4 -53.859426  185.756111  0.638555  0.412406  0.116085  0.000261   \n",
              "\n",
              "   planarity(21)  anisotropy(21)  sphericity(21)  omnivariance(21)  \\\n",
              "0       0.247088        0.999401        0.000599          0.024376   \n",
              "1       0.299811        0.999398        0.000602          0.023579   \n",
              "2       0.280851        0.999368        0.000632          0.023195   \n",
              "3       0.280851        0.999368        0.000632          0.023195   \n",
              "4       0.280851        0.999368        0.000632          0.023195   \n",
              "\n",
              "   eigenentropy(21)  \n",
              "0          0.606976  \n",
              "1          0.627024  \n",
              "2          0.617420  \n",
              "3          0.617420  \n",
              "4          0.617420  "
            ]
          },
          "execution_count": 28,
          "metadata": {},
          "output_type": "execute_result"
        }
      ]
    },
    {
      "cell_type": "code",
      "metadata": {
        "id": "fe3_jKkot3xw"
      },
      "source": [
        "# Retira do dataFrame todos os pontos que não passam no critério\n",
        "planos = pc_pyntcloud.points[pc_pyntcloud.points[\"planarity(21)\"] > 0.8]\n",
        "arvores = pc_pyntcloud.points[pc_pyntcloud.points[\"planarity(21)\"] < 0.2]"
      ],
      "execution_count": null,
      "outputs": []
    },
    {
      "cell_type": "code",
      "metadata": {
        "id": "0GzvJQPht3xw"
      },
      "source": [
        "# Converte para apenas as primeiras 3 colunas e salva a nuvem de objetos plano\n",
        "a = planos.values\n",
        "a = a[:,0:3]\n",
        "pts = pd.DataFrame(a)\n",
        "pts.rename(columns={0:'x',1:'y',2:'x'},inplace=True)\n",
        "pts.to_csv('/home/rubens/Nuvem_Pontos_3D/nuvem_planos.csv')\n"
      ],
      "execution_count": null,
      "outputs": []
    },
    {
      "cell_type": "code",
      "metadata": {
        "id": "tMkOR49Wt3xw"
      },
      "source": [
        "# Converte para apenas as primeiras 3 colunas e salva a nuvem de objetos não-planos\n",
        "a = arvores.values\n",
        "a = a[:,0:3]\n",
        "pts = pd.DataFrame(a)\n",
        "pts.rename(columns={0:'x',1:'y',2:'x'},inplace=True)\n",
        "pts.to_csv('/home/rubens/Nuvem_Pontos_3D/nuvem_arvores.csv')\n",
        "# A função de escrita da biblioteca PyntCloud não funciona"
      ],
      "execution_count": null,
      "outputs": []
    },
    {
      "cell_type": "code",
      "metadata": {
        "colab": {
          "referenced_widgets": [
            "e3657070741a4690b9a9bada2f30105b",
            "9656e550843f4122b2c1b4be7bd5d123"
          ]
        },
        "id": "Zrqb5p8Ot3xw",
        "outputId": "e16dfe1a-90fa-4636-abfb-91ed67ce9d27"
      },
      "source": [
        "# Nuvem dos objetos planos (pontos com planaridade superior que 0.80)\n",
        "nuvem_planos = pytc.from_file(\"/home/rubens/Nuvem_Pontos_3D/nuvem_planos.csv\",sep=\",\",header=0,names=[\"x\",\"y\",\"z\"])\n",
        "nuvem_planos.plot()"
      ],
      "execution_count": null,
      "outputs": [
        {
          "name": "stderr",
          "output_type": "stream",
          "text": [
            "/home/rubens/env_rubens/lib/python3.6/site-packages/pythreejs/traits.py:191: UserWarning: 64-bit data types not supported for WebGL data, casting to 32-bit.\n",
            "  warnings.warn('64-bit data types not supported for WebGL '\n"
          ]
        },
        {
          "data": {
            "application/vnd.jupyter.widget-view+json": {
              "model_id": "e3657070741a4690b9a9bada2f30105b",
              "version_major": 2,
              "version_minor": 0
            },
            "text/plain": [
              "Renderer(camera=PerspectiveCamera(aspect=1.6, fov=90.0, position=(-4.575900339870704, 179.29775567168153, 19.7…"
            ]
          },
          "metadata": {},
          "output_type": "display_data"
        },
        {
          "data": {
            "application/vnd.jupyter.widget-view+json": {
              "model_id": "9656e550843f4122b2c1b4be7bd5d123",
              "version_major": 2,
              "version_minor": 0
            },
            "text/plain": [
              "HBox(children=(Label(value='Point size:'), FloatSlider(value=36.4875, max=364.875, step=0.36487499999999995), …"
            ]
          },
          "metadata": {},
          "output_type": "display_data"
        }
      ]
    },
    {
      "cell_type": "code",
      "metadata": {
        "colab": {
          "referenced_widgets": [
            "135e1c688db04dc2bb6596bd349c0895",
            "1c1391c9b92d45c0890421e855956c99"
          ]
        },
        "id": "66TnSb-Bt3xx",
        "outputId": "a9a52096-60c0-4ffb-db1a-5ced22fb6131"
      },
      "source": [
        "# Nuvem dos objetos não planos (pontos com planaridade inferior a 0.2)\n",
        "nuvem_arvores = pytc.from_file(\"/home/rubens/Nuvem_Pontos_3D/nuvem_arvores.csv\",sep=\",\",header=0,names=[\"x\",\"y\",\"z\"])\n",
        "nuvem_arvores.plot()"
      ],
      "execution_count": null,
      "outputs": [
        {
          "data": {
            "application/vnd.jupyter.widget-view+json": {
              "model_id": "135e1c688db04dc2bb6596bd349c0895",
              "version_major": 2,
              "version_minor": 0
            },
            "text/plain": [
              "Renderer(camera=PerspectiveCamera(aspect=1.6, fov=90.0, position=(-5.671152944761193, 181.0905213299242, 32.98…"
            ]
          },
          "metadata": {},
          "output_type": "display_data"
        },
        {
          "data": {
            "application/vnd.jupyter.widget-view+json": {
              "model_id": "1c1391c9b92d45c0890421e855956c99",
              "version_major": 2,
              "version_minor": 0
            },
            "text/plain": [
              "HBox(children=(Label(value='Point size:'), FloatSlider(value=36.73125, max=367.3125, step=0.36731250000000004)…"
            ]
          },
          "metadata": {},
          "output_type": "display_data"
        }
      ]
    }
  ]
}